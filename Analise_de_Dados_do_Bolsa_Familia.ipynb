{
  "nbformat": 4,
  "nbformat_minor": 0,
  "metadata": {
    "colab": {
      "name": "Analise_de_Dados_do_Bolsa_Familia.ipynb",
      "provenance": [],
      "mount_file_id": "https://github.com/FranciscoJSSantos/Analise_de_Dados_do_Bolsa_Familia/blob/main/Analise_de_Dados_do_Bolsa_Familia.ipynb",
      "authorship_tag": "ABX9TyMWtCR9AV2zaeFcIgcdEFQx",
      "include_colab_link": true
    },
    "kernelspec": {
      "name": "python3",
      "display_name": "Python 3"
    },
    "language_info": {
      "name": "python"
    }
  },
  "cells": [
    {
      "cell_type": "markdown",
      "metadata": {
        "id": "view-in-github",
        "colab_type": "text"
      },
      "source": [
        "<a href=\"https://colab.research.google.com/github/FranciscoJSSantos/Analise_de_Dados_do_Bolsa_Familia/blob/main/Analise_de_Dados_do_Bolsa_Familia.ipynb\" target=\"_parent\"><img src=\"https://colab.research.google.com/assets/colab-badge.svg\" alt=\"Open In Colab\"/></a>"
      ]
    },
    {
      "cell_type": "markdown",
      "source": [
        "#**Análise de dados do Bolsa Família**\n",
        "---\n",
        "###**Membros**:\n",
        "- Francisco José dos Santos Santana\n",
        "- Danilo Michell Lisboa de Freitas"
      ],
      "metadata": {
        "id": "vKwDEHG52EMH"
      }
    },
    {
      "cell_type": "markdown",
      "source": [
        "###**LINK PARA BAIXAR A TABELA DE DADOS NO DRIVE**:\n",
        "\n",
        "- [Dataset_CadastroUnico_Sergipe](https://drive.google.com/drive/folders/1oOvuSPC41LXvvuxFS3jeKCXfFkeSWcI6?usp=sharing)\n",
        "\n",
        "\n",
        "\n",
        "###**LINKS COM ALGUMAS INFORMAÇÕES SOBRE A BASE DE DADOS**:\n",
        "\n",
        "- [Mais informações sobre o cadastro único](https://aplicacoes.mds.gov.br/sagirmps/ferramentas/docs/manual_do_pesquisador_cadastro_unico_semlogo.**pdf**)\n",
        "\n",
        "\n",
        "- [Mais informações sobre o bolsa família](https://aplicacoes.mds.gov.br/sagirmps/ferramentas/docs/manual_do_pesquisador_gestao_bolsa_familia_semlogo.pdf)\n"
      ],
      "metadata": {
        "id": "raljbP-vOB-O"
      }
    },
    {
      "cell_type": "markdown",
      "source": [
        "##Imports necessários para funcionamento do projeto"
      ],
      "metadata": {
        "id": "CJHQ4Yrg3RSE"
      }
    },
    {
      "cell_type": "code",
      "execution_count": 2,
      "metadata": {
        "id": "iQ-V2oDpMmgV"
      },
      "outputs": [],
      "source": [
        "#Imports Necessários\n",
        "import pandas as pd\n",
        "import seaborn as sns\n",
        "import matplotlib.pyplot as plt\n",
        "import numpy as np\n",
        "import seaborn as sns"
      ]
    },
    {
      "cell_type": "markdown",
      "source": [
        "#Análise de dados de Famílias"
      ],
      "metadata": {
        "id": "Y1GMc1IMFFLi"
      }
    },
    {
      "cell_type": "code",
      "source": [
        "#Carrega a base de dados de familia\n",
        "data_familia = pd.read_csv(\"/content/drive/MyDrive/Dataset_CadastroUnico_Sergipe/data_familia_sergipe.csv\")"
      ],
      "metadata": {
        "id": "UpAsU3mURrQD"
      },
      "execution_count": 3,
      "outputs": []
    },
    {
      "cell_type": "code",
      "source": [
        "df_familia = data_familia.iloc[:,[6,8,9,29]]\n",
        "\n",
        "df_familia"
      ],
      "metadata": {
        "colab": {
          "base_uri": "https://localhost:8080/",
          "height": 424
        },
        "id": "JT5w20RjR039",
        "outputId": "1a6fab1a-030c-4d77-ee6a-16550343535d"
      },
      "execution_count": 16,
      "outputs": [
        {
          "output_type": "execute_result",
          "data": {
            "text/plain": [
              "       vlr_renda_media_fam  cod_local_domic_fam  cod_especie_domic_fam  \\\n",
              "0                     58.0                  1.0                    1.0   \n",
              "1                    190.0                  2.0                    1.0   \n",
              "2                    100.0                  1.0                    1.0   \n",
              "3                    937.0                  1.0                    1.0   \n",
              "4                     25.0                  2.0                    1.0   \n",
              "...                    ...                  ...                    ...   \n",
              "82270                100.0                  1.0                    1.0   \n",
              "82271                  8.0                  1.0                    1.0   \n",
              "82272                 97.0                  1.0                    1.0   \n",
              "82273                880.0                  1.0                    1.0   \n",
              "82274                300.0                  1.0                    1.0   \n",
              "\n",
              "       qtde_pessoas  \n",
              "0                 4  \n",
              "1                 5  \n",
              "2                 2  \n",
              "3                 1  \n",
              "4                 2  \n",
              "...             ...  \n",
              "82270             3  \n",
              "82271             3  \n",
              "82272             3  \n",
              "82273             1  \n",
              "82274             1  \n",
              "\n",
              "[82275 rows x 4 columns]"
            ],
            "text/html": [
              "\n",
              "  <div id=\"df-9d3c4d29-ef81-4a44-a1a4-687433a923bf\">\n",
              "    <div class=\"colab-df-container\">\n",
              "      <div>\n",
              "<style scoped>\n",
              "    .dataframe tbody tr th:only-of-type {\n",
              "        vertical-align: middle;\n",
              "    }\n",
              "\n",
              "    .dataframe tbody tr th {\n",
              "        vertical-align: top;\n",
              "    }\n",
              "\n",
              "    .dataframe thead th {\n",
              "        text-align: right;\n",
              "    }\n",
              "</style>\n",
              "<table border=\"1\" class=\"dataframe\">\n",
              "  <thead>\n",
              "    <tr style=\"text-align: right;\">\n",
              "      <th></th>\n",
              "      <th>vlr_renda_media_fam</th>\n",
              "      <th>cod_local_domic_fam</th>\n",
              "      <th>cod_especie_domic_fam</th>\n",
              "      <th>qtde_pessoas</th>\n",
              "    </tr>\n",
              "  </thead>\n",
              "  <tbody>\n",
              "    <tr>\n",
              "      <th>0</th>\n",
              "      <td>58.0</td>\n",
              "      <td>1.0</td>\n",
              "      <td>1.0</td>\n",
              "      <td>4</td>\n",
              "    </tr>\n",
              "    <tr>\n",
              "      <th>1</th>\n",
              "      <td>190.0</td>\n",
              "      <td>2.0</td>\n",
              "      <td>1.0</td>\n",
              "      <td>5</td>\n",
              "    </tr>\n",
              "    <tr>\n",
              "      <th>2</th>\n",
              "      <td>100.0</td>\n",
              "      <td>1.0</td>\n",
              "      <td>1.0</td>\n",
              "      <td>2</td>\n",
              "    </tr>\n",
              "    <tr>\n",
              "      <th>3</th>\n",
              "      <td>937.0</td>\n",
              "      <td>1.0</td>\n",
              "      <td>1.0</td>\n",
              "      <td>1</td>\n",
              "    </tr>\n",
              "    <tr>\n",
              "      <th>4</th>\n",
              "      <td>25.0</td>\n",
              "      <td>2.0</td>\n",
              "      <td>1.0</td>\n",
              "      <td>2</td>\n",
              "    </tr>\n",
              "    <tr>\n",
              "      <th>...</th>\n",
              "      <td>...</td>\n",
              "      <td>...</td>\n",
              "      <td>...</td>\n",
              "      <td>...</td>\n",
              "    </tr>\n",
              "    <tr>\n",
              "      <th>82270</th>\n",
              "      <td>100.0</td>\n",
              "      <td>1.0</td>\n",
              "      <td>1.0</td>\n",
              "      <td>3</td>\n",
              "    </tr>\n",
              "    <tr>\n",
              "      <th>82271</th>\n",
              "      <td>8.0</td>\n",
              "      <td>1.0</td>\n",
              "      <td>1.0</td>\n",
              "      <td>3</td>\n",
              "    </tr>\n",
              "    <tr>\n",
              "      <th>82272</th>\n",
              "      <td>97.0</td>\n",
              "      <td>1.0</td>\n",
              "      <td>1.0</td>\n",
              "      <td>3</td>\n",
              "    </tr>\n",
              "    <tr>\n",
              "      <th>82273</th>\n",
              "      <td>880.0</td>\n",
              "      <td>1.0</td>\n",
              "      <td>1.0</td>\n",
              "      <td>1</td>\n",
              "    </tr>\n",
              "    <tr>\n",
              "      <th>82274</th>\n",
              "      <td>300.0</td>\n",
              "      <td>1.0</td>\n",
              "      <td>1.0</td>\n",
              "      <td>1</td>\n",
              "    </tr>\n",
              "  </tbody>\n",
              "</table>\n",
              "<p>82275 rows × 4 columns</p>\n",
              "</div>\n",
              "      <button class=\"colab-df-convert\" onclick=\"convertToInteractive('df-9d3c4d29-ef81-4a44-a1a4-687433a923bf')\"\n",
              "              title=\"Convert this dataframe to an interactive table.\"\n",
              "              style=\"display:none;\">\n",
              "        \n",
              "  <svg xmlns=\"http://www.w3.org/2000/svg\" height=\"24px\"viewBox=\"0 0 24 24\"\n",
              "       width=\"24px\">\n",
              "    <path d=\"M0 0h24v24H0V0z\" fill=\"none\"/>\n",
              "    <path d=\"M18.56 5.44l.94 2.06.94-2.06 2.06-.94-2.06-.94-.94-2.06-.94 2.06-2.06.94zm-11 1L8.5 8.5l.94-2.06 2.06-.94-2.06-.94L8.5 2.5l-.94 2.06-2.06.94zm10 10l.94 2.06.94-2.06 2.06-.94-2.06-.94-.94-2.06-.94 2.06-2.06.94z\"/><path d=\"M17.41 7.96l-1.37-1.37c-.4-.4-.92-.59-1.43-.59-.52 0-1.04.2-1.43.59L10.3 9.45l-7.72 7.72c-.78.78-.78 2.05 0 2.83L4 21.41c.39.39.9.59 1.41.59.51 0 1.02-.2 1.41-.59l7.78-7.78 2.81-2.81c.8-.78.8-2.07 0-2.86zM5.41 20L4 18.59l7.72-7.72 1.47 1.35L5.41 20z\"/>\n",
              "  </svg>\n",
              "      </button>\n",
              "      \n",
              "  <style>\n",
              "    .colab-df-container {\n",
              "      display:flex;\n",
              "      flex-wrap:wrap;\n",
              "      gap: 12px;\n",
              "    }\n",
              "\n",
              "    .colab-df-convert {\n",
              "      background-color: #E8F0FE;\n",
              "      border: none;\n",
              "      border-radius: 50%;\n",
              "      cursor: pointer;\n",
              "      display: none;\n",
              "      fill: #1967D2;\n",
              "      height: 32px;\n",
              "      padding: 0 0 0 0;\n",
              "      width: 32px;\n",
              "    }\n",
              "\n",
              "    .colab-df-convert:hover {\n",
              "      background-color: #E2EBFA;\n",
              "      box-shadow: 0px 1px 2px rgba(60, 64, 67, 0.3), 0px 1px 3px 1px rgba(60, 64, 67, 0.15);\n",
              "      fill: #174EA6;\n",
              "    }\n",
              "\n",
              "    [theme=dark] .colab-df-convert {\n",
              "      background-color: #3B4455;\n",
              "      fill: #D2E3FC;\n",
              "    }\n",
              "\n",
              "    [theme=dark] .colab-df-convert:hover {\n",
              "      background-color: #434B5C;\n",
              "      box-shadow: 0px 1px 3px 1px rgba(0, 0, 0, 0.15);\n",
              "      filter: drop-shadow(0px 1px 2px rgba(0, 0, 0, 0.3));\n",
              "      fill: #FFFFFF;\n",
              "    }\n",
              "  </style>\n",
              "\n",
              "      <script>\n",
              "        const buttonEl =\n",
              "          document.querySelector('#df-9d3c4d29-ef81-4a44-a1a4-687433a923bf button.colab-df-convert');\n",
              "        buttonEl.style.display =\n",
              "          google.colab.kernel.accessAllowed ? 'block' : 'none';\n",
              "\n",
              "        async function convertToInteractive(key) {\n",
              "          const element = document.querySelector('#df-9d3c4d29-ef81-4a44-a1a4-687433a923bf');\n",
              "          const dataTable =\n",
              "            await google.colab.kernel.invokeFunction('convertToInteractive',\n",
              "                                                     [key], {});\n",
              "          if (!dataTable) return;\n",
              "\n",
              "          const docLinkHtml = 'Like what you see? Visit the ' +\n",
              "            '<a target=\"_blank\" href=https://colab.research.google.com/notebooks/data_table.ipynb>data table notebook</a>'\n",
              "            + ' to learn more about interactive tables.';\n",
              "          element.innerHTML = '';\n",
              "          dataTable['output_type'] = 'display_data';\n",
              "          await google.colab.output.renderOutput(dataTable, element);\n",
              "          const docLink = document.createElement('div');\n",
              "          docLink.innerHTML = docLinkHtml;\n",
              "          element.appendChild(docLink);\n",
              "        }\n",
              "      </script>\n",
              "    </div>\n",
              "  </div>\n",
              "  "
            ]
          },
          "metadata": {},
          "execution_count": 16
        }
      ]
    },
    {
      "cell_type": "markdown",
      "source": [
        "##**Criação da base de dados que vamos utilizar extraidos da familia**\n",
        "- Decidimos trabalhar com 4 dados, são eles:\n",
        " - vlr_renda_media_fam\n",
        " - cod_local_domic_fam\n",
        " - cod_especie_domic_fam\n",
        " - qtde_pessoas"
      ],
      "metadata": {
        "id": "pWzkMR-Jy09f"
      }
    },
    {
      "cell_type": "code",
      "source": [
        "###obs: rodar uma vez, depois da primeira vez vai dar erro\n",
        "\n",
        "#transformação de dados de Local de Domicílio\n",
        "df_familia['cod_local_domic_fam'] = pd.cut(df_familia['cod_local_domic_fam'],bins=[1,2,float('inf')],right=False,labels=['Urbana','Rural'])\n",
        "df_familia.rename(columns = {'cod_local_domic_fam' : 'Local de Domicílio'}, inplace = True)\n",
        "\n",
        "#transformação de dados de Espécie do domicílio\n",
        "df_familia['cod_especie_domic_fam'] = pd.cut(df_familia['cod_especie_domic_fam'],bins=[1,2,3,float('inf')],right=False,labels=['Particular Permanente','Particular improvisado','Coletivo'])\n",
        "df_familia.rename(columns = {'cod_especie_domic_fam' : 'Espécie do domicílio'}, inplace = True)\n",
        "\n",
        "#transformação de dados de valor de renda media pra grupo de renda\n",
        "df_familia['vlr_renda_media_fam'] = pd.cut(df_familia['vlr_renda_media_fam'],bins=[0,100.0,200.0,float('inf')],right=False,labels=['Extrema Pobreza','Pobreza','Vulnerável'])\n",
        "df_familia.rename(columns = {'vlr_renda_media_fam' : 'Grupo de renda'}, inplace = True)"
      ],
      "metadata": {
        "colab": {
          "base_uri": "https://localhost:8080/"
        },
        "id": "SLyWXNpGSt3-",
        "outputId": "005c54c4-72e8-4b66-d9c1-bfddf1131848"
      },
      "execution_count": 17,
      "outputs": [
        {
          "output_type": "stream",
          "name": "stderr",
          "text": [
            "/usr/local/lib/python3.7/dist-packages/ipykernel_launcher.py:4: SettingWithCopyWarning: \n",
            "A value is trying to be set on a copy of a slice from a DataFrame.\n",
            "Try using .loc[row_indexer,col_indexer] = value instead\n",
            "\n",
            "See the caveats in the documentation: https://pandas.pydata.org/pandas-docs/stable/user_guide/indexing.html#returning-a-view-versus-a-copy\n",
            "  after removing the cwd from sys.path.\n",
            "/usr/local/lib/python3.7/dist-packages/pandas/core/frame.py:5047: SettingWithCopyWarning: \n",
            "A value is trying to be set on a copy of a slice from a DataFrame\n",
            "\n",
            "See the caveats in the documentation: https://pandas.pydata.org/pandas-docs/stable/user_guide/indexing.html#returning-a-view-versus-a-copy\n",
            "  errors=errors,\n",
            "/usr/local/lib/python3.7/dist-packages/ipykernel_launcher.py:8: SettingWithCopyWarning: \n",
            "A value is trying to be set on a copy of a slice from a DataFrame.\n",
            "Try using .loc[row_indexer,col_indexer] = value instead\n",
            "\n",
            "See the caveats in the documentation: https://pandas.pydata.org/pandas-docs/stable/user_guide/indexing.html#returning-a-view-versus-a-copy\n",
            "  \n",
            "/usr/local/lib/python3.7/dist-packages/ipykernel_launcher.py:12: SettingWithCopyWarning: \n",
            "A value is trying to be set on a copy of a slice from a DataFrame.\n",
            "Try using .loc[row_indexer,col_indexer] = value instead\n",
            "\n",
            "See the caveats in the documentation: https://pandas.pydata.org/pandas-docs/stable/user_guide/indexing.html#returning-a-view-versus-a-copy\n",
            "  if sys.path[0] == '':\n"
          ]
        }
      ]
    },
    {
      "cell_type": "markdown",
      "source": [
        "##**Transformação dos dados para qualitativo**\n",
        "- Fizemos as transformações com base no diciónario de dados que nos foi disponibilizado:\n",
        " - Para **Local de Domicílio** temos: \n",
        "   - **1 - Urbano**;\n",
        "   - **2 - Rural**;\n",
        "\n",
        " - Para **Espécie do domicílio** temos: \n",
        "   - **1 - Particular Permanente**;\n",
        "   - **2 - Particular improvisado**;\n",
        "   - **3 - Coletivo**;\n",
        "\n",
        " - Para **Espécie do domicílio** temos: \n",
        "   - **[0, 100.0] - Extrema Pobreza**;\n",
        "   - **[100.1, 200.0] - Pobreza**;\n",
        "   - **[200.1, infinito] - Vulnerável** ;\n",
        "  "
      ],
      "metadata": {
        "id": "n1u3ZrS8ww2Z"
      }
    },
    {
      "cell_type": "code",
      "source": [
        "df_familia.describe()"
      ],
      "metadata": {
        "id": "n6_MsKd2zfgl",
        "outputId": "dc864f77-bc8e-41c2-bf63-60fbe5692c60",
        "colab": {
          "base_uri": "https://localhost:8080/",
          "height": 300
        }
      },
      "execution_count": 18,
      "outputs": [
        {
          "output_type": "execute_result",
          "data": {
            "text/plain": [
              "       qtde_pessoas\n",
              "count  82275.000000\n",
              "mean       2.511188\n",
              "std        1.409489\n",
              "min        1.000000\n",
              "25%        1.000000\n",
              "50%        2.000000\n",
              "75%        3.000000\n",
              "max       14.000000"
            ],
            "text/html": [
              "\n",
              "  <div id=\"df-f6977327-8a72-4dd2-981b-e4e8ab956e47\">\n",
              "    <div class=\"colab-df-container\">\n",
              "      <div>\n",
              "<style scoped>\n",
              "    .dataframe tbody tr th:only-of-type {\n",
              "        vertical-align: middle;\n",
              "    }\n",
              "\n",
              "    .dataframe tbody tr th {\n",
              "        vertical-align: top;\n",
              "    }\n",
              "\n",
              "    .dataframe thead th {\n",
              "        text-align: right;\n",
              "    }\n",
              "</style>\n",
              "<table border=\"1\" class=\"dataframe\">\n",
              "  <thead>\n",
              "    <tr style=\"text-align: right;\">\n",
              "      <th></th>\n",
              "      <th>qtde_pessoas</th>\n",
              "    </tr>\n",
              "  </thead>\n",
              "  <tbody>\n",
              "    <tr>\n",
              "      <th>count</th>\n",
              "      <td>82275.000000</td>\n",
              "    </tr>\n",
              "    <tr>\n",
              "      <th>mean</th>\n",
              "      <td>2.511188</td>\n",
              "    </tr>\n",
              "    <tr>\n",
              "      <th>std</th>\n",
              "      <td>1.409489</td>\n",
              "    </tr>\n",
              "    <tr>\n",
              "      <th>min</th>\n",
              "      <td>1.000000</td>\n",
              "    </tr>\n",
              "    <tr>\n",
              "      <th>25%</th>\n",
              "      <td>1.000000</td>\n",
              "    </tr>\n",
              "    <tr>\n",
              "      <th>50%</th>\n",
              "      <td>2.000000</td>\n",
              "    </tr>\n",
              "    <tr>\n",
              "      <th>75%</th>\n",
              "      <td>3.000000</td>\n",
              "    </tr>\n",
              "    <tr>\n",
              "      <th>max</th>\n",
              "      <td>14.000000</td>\n",
              "    </tr>\n",
              "  </tbody>\n",
              "</table>\n",
              "</div>\n",
              "      <button class=\"colab-df-convert\" onclick=\"convertToInteractive('df-f6977327-8a72-4dd2-981b-e4e8ab956e47')\"\n",
              "              title=\"Convert this dataframe to an interactive table.\"\n",
              "              style=\"display:none;\">\n",
              "        \n",
              "  <svg xmlns=\"http://www.w3.org/2000/svg\" height=\"24px\"viewBox=\"0 0 24 24\"\n",
              "       width=\"24px\">\n",
              "    <path d=\"M0 0h24v24H0V0z\" fill=\"none\"/>\n",
              "    <path d=\"M18.56 5.44l.94 2.06.94-2.06 2.06-.94-2.06-.94-.94-2.06-.94 2.06-2.06.94zm-11 1L8.5 8.5l.94-2.06 2.06-.94-2.06-.94L8.5 2.5l-.94 2.06-2.06.94zm10 10l.94 2.06.94-2.06 2.06-.94-2.06-.94-.94-2.06-.94 2.06-2.06.94z\"/><path d=\"M17.41 7.96l-1.37-1.37c-.4-.4-.92-.59-1.43-.59-.52 0-1.04.2-1.43.59L10.3 9.45l-7.72 7.72c-.78.78-.78 2.05 0 2.83L4 21.41c.39.39.9.59 1.41.59.51 0 1.02-.2 1.41-.59l7.78-7.78 2.81-2.81c.8-.78.8-2.07 0-2.86zM5.41 20L4 18.59l7.72-7.72 1.47 1.35L5.41 20z\"/>\n",
              "  </svg>\n",
              "      </button>\n",
              "      \n",
              "  <style>\n",
              "    .colab-df-container {\n",
              "      display:flex;\n",
              "      flex-wrap:wrap;\n",
              "      gap: 12px;\n",
              "    }\n",
              "\n",
              "    .colab-df-convert {\n",
              "      background-color: #E8F0FE;\n",
              "      border: none;\n",
              "      border-radius: 50%;\n",
              "      cursor: pointer;\n",
              "      display: none;\n",
              "      fill: #1967D2;\n",
              "      height: 32px;\n",
              "      padding: 0 0 0 0;\n",
              "      width: 32px;\n",
              "    }\n",
              "\n",
              "    .colab-df-convert:hover {\n",
              "      background-color: #E2EBFA;\n",
              "      box-shadow: 0px 1px 2px rgba(60, 64, 67, 0.3), 0px 1px 3px 1px rgba(60, 64, 67, 0.15);\n",
              "      fill: #174EA6;\n",
              "    }\n",
              "\n",
              "    [theme=dark] .colab-df-convert {\n",
              "      background-color: #3B4455;\n",
              "      fill: #D2E3FC;\n",
              "    }\n",
              "\n",
              "    [theme=dark] .colab-df-convert:hover {\n",
              "      background-color: #434B5C;\n",
              "      box-shadow: 0px 1px 3px 1px rgba(0, 0, 0, 0.15);\n",
              "      filter: drop-shadow(0px 1px 2px rgba(0, 0, 0, 0.3));\n",
              "      fill: #FFFFFF;\n",
              "    }\n",
              "  </style>\n",
              "\n",
              "      <script>\n",
              "        const buttonEl =\n",
              "          document.querySelector('#df-f6977327-8a72-4dd2-981b-e4e8ab956e47 button.colab-df-convert');\n",
              "        buttonEl.style.display =\n",
              "          google.colab.kernel.accessAllowed ? 'block' : 'none';\n",
              "\n",
              "        async function convertToInteractive(key) {\n",
              "          const element = document.querySelector('#df-f6977327-8a72-4dd2-981b-e4e8ab956e47');\n",
              "          const dataTable =\n",
              "            await google.colab.kernel.invokeFunction('convertToInteractive',\n",
              "                                                     [key], {});\n",
              "          if (!dataTable) return;\n",
              "\n",
              "          const docLinkHtml = 'Like what you see? Visit the ' +\n",
              "            '<a target=\"_blank\" href=https://colab.research.google.com/notebooks/data_table.ipynb>data table notebook</a>'\n",
              "            + ' to learn more about interactive tables.';\n",
              "          element.innerHTML = '';\n",
              "          dataTable['output_type'] = 'display_data';\n",
              "          await google.colab.output.renderOutput(dataTable, element);\n",
              "          const docLink = document.createElement('div');\n",
              "          docLink.innerHTML = docLinkHtml;\n",
              "          element.appendChild(docLink);\n",
              "        }\n",
              "      </script>\n",
              "    </div>\n",
              "  </div>\n",
              "  "
            ]
          },
          "metadata": {},
          "execution_count": 18
        }
      ]
    },
    {
      "cell_type": "markdown",
      "source": [
        "- Com algumas análises usando o método '.describe()' do pandas podemos ver existem campos nulos em Local de Domicílio e Espécie de domicílio e podemos supor que com base no dicionário de dados não existe a opção de 'nenhum local' então podemos dizer que os dados faltando seriam essas opções que não existem na base de dados. \n",
        "- Podemos também analisar a quantidade de tipos de itens que cada dado possui. \n",
        "- Também podemos notar o valor do dado e a quantidade de vezes que ele se repete."
      ],
      "metadata": {
        "id": "ZRjnqF8VzgqN"
      }
    },
    {
      "cell_type": "code",
      "source": [
        "# Grupo de renda\n",
        "# Extrema Pobreza\t- 49562\n",
        "# Vulnerável\t- 24747\n",
        "# Pobreza\t- 7966\n",
        "\n",
        "tipo_grupo_renda = df_familia['Grupo de renda'].value_counts().to_frame()\n",
        "tipo_grupo_renda.plot(kind='bar',color='blue')"
      ],
      "metadata": {
        "colab": {
          "base_uri": "https://localhost:8080/",
          "height": 356
        },
        "id": "E4FX8qsEdP_2",
        "outputId": "e0745843-cdbe-4f83-eb78-3fd444ad423f"
      },
      "execution_count": 19,
      "outputs": [
        {
          "output_type": "execute_result",
          "data": {
            "text/plain": [
              "<matplotlib.axes._subplots.AxesSubplot at 0x7fb98edb2fd0>"
            ]
          },
          "metadata": {},
          "execution_count": 19
        },
        {
          "output_type": "display_data",
          "data": {
            "text/plain": [
              "<Figure size 432x288 with 1 Axes>"
            ],
            "image/png": "[encoded data removed]"
          },
          "metadata": {
            "needs_background": "light"
          }
        }
      ]
    },
    {
      "cell_type": "markdown",
      "source": [
        "###Realizando uma análise grosseira da porcentagem de dados, temos:\n",
        "- **60%** na classe **Extrema Pobreza**;\n",
        "- **30%** na classe **Vulnerável**;\n",
        "- **10%** na classe **Pobreza**;\n",
        "\n"
      ],
      "metadata": {
        "id": "MS-qTqvG06zs"
      }
    },
    {
      "cell_type": "markdown",
      "source": [
        "##**Grupo de Renda da família**\n"
      ],
      "metadata": {
        "id": "WQcRSoI9tE8z"
      }
    },
    {
      "cell_type": "code",
      "source": [
        "#Retiramos o dado \"Vulnerável\" pois eles não se encaixam no grupo para inclusão no bolsa família devivo a sua renda média ser acima de 200,01\n",
        "grupoRenda = df_familia[df_familia['Grupo de renda'] == 'Vulnerável'].index\n",
        "df_familia.drop(grupoRenda, inplace = True)\n"
      ],
      "metadata": {
        "colab": {
          "base_uri": "https://localhost:8080/"
        },
        "id": "m0ooiWYBbxmo",
        "outputId": "2c9c41bb-a0fa-42e0-9b5d-b5ce7134860a"
      },
      "execution_count": 20,
      "outputs": [
        {
          "output_type": "stream",
          "name": "stderr",
          "text": [
            "/usr/local/lib/python3.7/dist-packages/pandas/core/frame.py:4913: SettingWithCopyWarning: \n",
            "A value is trying to be set on a copy of a slice from a DataFrame\n",
            "\n",
            "See the caveats in the documentation: https://pandas.pydata.org/pandas-docs/stable/user_guide/indexing.html#returning-a-view-versus-a-copy\n",
            "  errors=errors,\n"
          ]
        }
      ]
    },
    {
      "cell_type": "markdown",
      "source": [
        "- Para fazer parte do programa bolsa família a família precisa estar no grupo de **Extrema pobreza** e **Pobreza**, devido a essas conclusões retiramos o grupo **Vulnerável** da base de dados para trabalhar com os dados das pessoas que irão fazer parte do programa."
      ],
      "metadata": {
        "id": "wpeqoY0YwcgT"
      }
    },
    {
      "cell_type": "code",
      "source": [
        "df_familia"
      ],
      "metadata": {
        "id": "V4_FfADW2V5P",
        "outputId": "e3d38f2d-743f-4266-a535-d66c0b88ba55",
        "colab": {
          "base_uri": "https://localhost:8080/",
          "height": 424
        }
      },
      "execution_count": 21,
      "outputs": [
        {
          "output_type": "execute_result",
          "data": {
            "text/plain": [
              "        Grupo de renda Local de Domicílio   Espécie do domicílio  qtde_pessoas\n",
              "0      Extrema Pobreza             Urbana  Particular Permanente             4\n",
              "1              Pobreza              Rural  Particular Permanente             5\n",
              "2              Pobreza             Urbana  Particular Permanente             2\n",
              "4      Extrema Pobreza              Rural  Particular Permanente             2\n",
              "5      Extrema Pobreza             Urbana  Particular Permanente             2\n",
              "...                ...                ...                    ...           ...\n",
              "82267          Pobreza             Urbana  Particular Permanente             3\n",
              "82268  Extrema Pobreza             Urbana  Particular Permanente             3\n",
              "82270          Pobreza             Urbana  Particular Permanente             3\n",
              "82271  Extrema Pobreza             Urbana  Particular Permanente             3\n",
              "82272  Extrema Pobreza             Urbana  Particular Permanente             3\n",
              "\n",
              "[57528 rows x 4 columns]"
            ],
            "text/html": [
              "\n",
              "  <div id=\"df-d31d48fd-d996-4b73-bf02-42268e9b95fc\">\n",
              "    <div class=\"colab-df-container\">\n",
              "      <div>\n",
              "<style scoped>\n",
              "    .dataframe tbody tr th:only-of-type {\n",
              "        vertical-align: middle;\n",
              "    }\n",
              "\n",
              "    .dataframe tbody tr th {\n",
              "        vertical-align: top;\n",
              "    }\n",
              "\n",
              "    .dataframe thead th {\n",
              "        text-align: right;\n",
              "    }\n",
              "</style>\n",
              "<table border=\"1\" class=\"dataframe\">\n",
              "  <thead>\n",
              "    <tr style=\"text-align: right;\">\n",
              "      <th></th>\n",
              "      <th>Grupo de renda</th>\n",
              "      <th>Local de Domicílio</th>\n",
              "      <th>Espécie do domicílio</th>\n",
              "      <th>qtde_pessoas</th>\n",
              "    </tr>\n",
              "  </thead>\n",
              "  <tbody>\n",
              "    <tr>\n",
              "      <th>0</th>\n",
              "      <td>Extrema Pobreza</td>\n",
              "      <td>Urbana</td>\n",
              "      <td>Particular Permanente</td>\n",
              "      <td>4</td>\n",
              "    </tr>\n",
              "    <tr>\n",
              "      <th>1</th>\n",
              "      <td>Pobreza</td>\n",
              "      <td>Rural</td>\n",
              "      <td>Particular Permanente</td>\n",
              "      <td>5</td>\n",
              "    </tr>\n",
              "    <tr>\n",
              "      <th>2</th>\n",
              "      <td>Pobreza</td>\n",
              "      <td>Urbana</td>\n",
              "      <td>Particular Permanente</td>\n",
              "      <td>2</td>\n",
              "    </tr>\n",
              "    <tr>\n",
              "      <th>4</th>\n",
              "      <td>Extrema Pobreza</td>\n",
              "      <td>Rural</td>\n",
              "      <td>Particular Permanente</td>\n",
              "      <td>2</td>\n",
              "    </tr>\n",
              "    <tr>\n",
              "      <th>5</th>\n",
              "      <td>Extrema Pobreza</td>\n",
              "      <td>Urbana</td>\n",
              "      <td>Particular Permanente</td>\n",
              "      <td>2</td>\n",
              "    </tr>\n",
              "    <tr>\n",
              "      <th>...</th>\n",
              "      <td>...</td>\n",
              "      <td>...</td>\n",
              "      <td>...</td>\n",
              "      <td>...</td>\n",
              "    </tr>\n",
              "    <tr>\n",
              "      <th>82267</th>\n",
              "      <td>Pobreza</td>\n",
              "      <td>Urbana</td>\n",
              "      <td>Particular Permanente</td>\n",
              "      <td>3</td>\n",
              "    </tr>\n",
              "    <tr>\n",
              "      <th>82268</th>\n",
              "      <td>Extrema Pobreza</td>\n",
              "      <td>Urbana</td>\n",
              "      <td>Particular Permanente</td>\n",
              "      <td>3</td>\n",
              "    </tr>\n",
              "    <tr>\n",
              "      <th>82270</th>\n",
              "      <td>Pobreza</td>\n",
              "      <td>Urbana</td>\n",
              "      <td>Particular Permanente</td>\n",
              "      <td>3</td>\n",
              "    </tr>\n",
              "    <tr>\n",
              "      <th>82271</th>\n",
              "      <td>Extrema Pobreza</td>\n",
              "      <td>Urbana</td>\n",
              "      <td>Particular Permanente</td>\n",
              "      <td>3</td>\n",
              "    </tr>\n",
              "    <tr>\n",
              "      <th>82272</th>\n",
              "      <td>Extrema Pobreza</td>\n",
              "      <td>Urbana</td>\n",
              "      <td>Particular Permanente</td>\n",
              "      <td>3</td>\n",
              "    </tr>\n",
              "  </tbody>\n",
              "</table>\n",
              "<p>57528 rows × 4 columns</p>\n",
              "</div>\n",
              "      <button class=\"colab-df-convert\" onclick=\"convertToInteractive('df-d31d48fd-d996-4b73-bf02-42268e9b95fc')\"\n",
              "              title=\"Convert this dataframe to an interactive table.\"\n",
              "              style=\"display:none;\">\n",
              "        \n",
              "  <svg xmlns=\"http://www.w3.org/2000/svg\" height=\"24px\"viewBox=\"0 0 24 24\"\n",
              "       width=\"24px\">\n",
              "    <path d=\"M0 0h24v24H0V0z\" fill=\"none\"/>\n",
              "    <path d=\"M18.56 5.44l.94 2.06.94-2.06 2.06-.94-2.06-.94-.94-2.06-.94 2.06-2.06.94zm-11 1L8.5 8.5l.94-2.06 2.06-.94-2.06-.94L8.5 2.5l-.94 2.06-2.06.94zm10 10l.94 2.06.94-2.06 2.06-.94-2.06-.94-.94-2.06-.94 2.06-2.06.94z\"/><path d=\"M17.41 7.96l-1.37-1.37c-.4-.4-.92-.59-1.43-.59-.52 0-1.04.2-1.43.59L10.3 9.45l-7.72 7.72c-.78.78-.78 2.05 0 2.83L4 21.41c.39.39.9.59 1.41.59.51 0 1.02-.2 1.41-.59l7.78-7.78 2.81-2.81c.8-.78.8-2.07 0-2.86zM5.41 20L4 18.59l7.72-7.72 1.47 1.35L5.41 20z\"/>\n",
              "  </svg>\n",
              "      </button>\n",
              "      \n",
              "  <style>\n",
              "    .colab-df-container {\n",
              "      display:flex;\n",
              "      flex-wrap:wrap;\n",
              "      gap: 12px;\n",
              "    }\n",
              "\n",
              "    .colab-df-convert {\n",
              "      background-color: #E8F0FE;\n",
              "      border: none;\n",
              "      border-radius: 50%;\n",
              "      cursor: pointer;\n",
              "      display: none;\n",
              "      fill: #1967D2;\n",
              "      height: 32px;\n",
              "      padding: 0 0 0 0;\n",
              "      width: 32px;\n",
              "    }\n",
              "\n",
              "    .colab-df-convert:hover {\n",
              "      background-color: #E2EBFA;\n",
              "      box-shadow: 0px 1px 2px rgba(60, 64, 67, 0.3), 0px 1px 3px 1px rgba(60, 64, 67, 0.15);\n",
              "      fill: #174EA6;\n",
              "    }\n",
              "\n",
              "    [theme=dark] .colab-df-convert {\n",
              "      background-color: #3B4455;\n",
              "      fill: #D2E3FC;\n",
              "    }\n",
              "\n",
              "    [theme=dark] .colab-df-convert:hover {\n",
              "      background-color: #434B5C;\n",
              "      box-shadow: 0px 1px 3px 1px rgba(0, 0, 0, 0.15);\n",
              "      filter: drop-shadow(0px 1px 2px rgba(0, 0, 0, 0.3));\n",
              "      fill: #FFFFFF;\n",
              "    }\n",
              "  </style>\n",
              "\n",
              "      <script>\n",
              "        const buttonEl =\n",
              "          document.querySelector('#df-d31d48fd-d996-4b73-bf02-42268e9b95fc button.colab-df-convert');\n",
              "        buttonEl.style.display =\n",
              "          google.colab.kernel.accessAllowed ? 'block' : 'none';\n",
              "\n",
              "        async function convertToInteractive(key) {\n",
              "          const element = document.querySelector('#df-d31d48fd-d996-4b73-bf02-42268e9b95fc');\n",
              "          const dataTable =\n",
              "            await google.colab.kernel.invokeFunction('convertToInteractive',\n",
              "                                                     [key], {});\n",
              "          if (!dataTable) return;\n",
              "\n",
              "          const docLinkHtml = 'Like what you see? Visit the ' +\n",
              "            '<a target=\"_blank\" href=https://colab.research.google.com/notebooks/data_table.ipynb>data table notebook</a>'\n",
              "            + ' to learn more about interactive tables.';\n",
              "          element.innerHTML = '';\n",
              "          dataTable['output_type'] = 'display_data';\n",
              "          await google.colab.output.renderOutput(dataTable, element);\n",
              "          const docLink = document.createElement('div');\n",
              "          docLink.innerHTML = docLinkHtml;\n",
              "          element.appendChild(docLink);\n",
              "        }\n",
              "      </script>\n",
              "    </div>\n",
              "  </div>\n",
              "  "
            ]
          },
          "metadata": {},
          "execution_count": 21
        }
      ]
    },
    {
      "cell_type": "markdown",
      "source": [
        "- Depois da retirada do grupo **Vunerável**, refizemos a análise da quantidade de dados e diminuimos o volume em **30%**."
      ],
      "metadata": {
        "id": "CHZXXMdx2qtB"
      }
    },
    {
      "cell_type": "markdown",
      "source": [
        "##**Quantidade de pessoas da família**\n"
      ],
      "metadata": {
        "id": "cO8WBIbiJ6-r"
      }
    },
    {
      "cell_type": "code",
      "source": [
        "df_familia[[\"qtde_pessoas\"]].describe()"
      ],
      "metadata": {
        "id": "1zfAAYwTIKH3",
        "outputId": "fecfadbc-1b9d-4696-b990-2063fa491ee6",
        "colab": {
          "base_uri": "https://localhost:8080/",
          "height": 300
        }
      },
      "execution_count": 22,
      "outputs": [
        {
          "output_type": "execute_result",
          "data": {
            "text/plain": [
              "       qtde_pessoas\n",
              "count  57528.000000\n",
              "mean       2.721040\n",
              "std        1.464688\n",
              "min        1.000000\n",
              "25%        2.000000\n",
              "50%        3.000000\n",
              "75%        4.000000\n",
              "max       14.000000"
            ],
            "text/html": [
              "\n",
              "  <div id=\"df-7826729e-d192-4827-9ef3-18c938929788\">\n",
              "    <div class=\"colab-df-container\">\n",
              "      <div>\n",
              "<style scoped>\n",
              "    .dataframe tbody tr th:only-of-type {\n",
              "        vertical-align: middle;\n",
              "    }\n",
              "\n",
              "    .dataframe tbody tr th {\n",
              "        vertical-align: top;\n",
              "    }\n",
              "\n",
              "    .dataframe thead th {\n",
              "        text-align: right;\n",
              "    }\n",
              "</style>\n",
              "<table border=\"1\" class=\"dataframe\">\n",
              "  <thead>\n",
              "    <tr style=\"text-align: right;\">\n",
              "      <th></th>\n",
              "      <th>qtde_pessoas</th>\n",
              "    </tr>\n",
              "  </thead>\n",
              "  <tbody>\n",
              "    <tr>\n",
              "      <th>count</th>\n",
              "      <td>57528.000000</td>\n",
              "    </tr>\n",
              "    <tr>\n",
              "      <th>mean</th>\n",
              "      <td>2.721040</td>\n",
              "    </tr>\n",
              "    <tr>\n",
              "      <th>std</th>\n",
              "      <td>1.464688</td>\n",
              "    </tr>\n",
              "    <tr>\n",
              "      <th>min</th>\n",
              "      <td>1.000000</td>\n",
              "    </tr>\n",
              "    <tr>\n",
              "      <th>25%</th>\n",
              "      <td>2.000000</td>\n",
              "    </tr>\n",
              "    <tr>\n",
              "      <th>50%</th>\n",
              "      <td>3.000000</td>\n",
              "    </tr>\n",
              "    <tr>\n",
              "      <th>75%</th>\n",
              "      <td>4.000000</td>\n",
              "    </tr>\n",
              "    <tr>\n",
              "      <th>max</th>\n",
              "      <td>14.000000</td>\n",
              "    </tr>\n",
              "  </tbody>\n",
              "</table>\n",
              "</div>\n",
              "      <button class=\"colab-df-convert\" onclick=\"convertToInteractive('df-7826729e-d192-4827-9ef3-18c938929788')\"\n",
              "              title=\"Convert this dataframe to an interactive table.\"\n",
              "              style=\"display:none;\">\n",
              "        \n",
              "  <svg xmlns=\"http://www.w3.org/2000/svg\" height=\"24px\"viewBox=\"0 0 24 24\"\n",
              "       width=\"24px\">\n",
              "    <path d=\"M0 0h24v24H0V0z\" fill=\"none\"/>\n",
              "    <path d=\"M18.56 5.44l.94 2.06.94-2.06 2.06-.94-2.06-.94-.94-2.06-.94 2.06-2.06.94zm-11 1L8.5 8.5l.94-2.06 2.06-.94-2.06-.94L8.5 2.5l-.94 2.06-2.06.94zm10 10l.94 2.06.94-2.06 2.06-.94-2.06-.94-.94-2.06-.94 2.06-2.06.94z\"/><path d=\"M17.41 7.96l-1.37-1.37c-.4-.4-.92-.59-1.43-.59-.52 0-1.04.2-1.43.59L10.3 9.45l-7.72 7.72c-.78.78-.78 2.05 0 2.83L4 21.41c.39.39.9.59 1.41.59.51 0 1.02-.2 1.41-.59l7.78-7.78 2.81-2.81c.8-.78.8-2.07 0-2.86zM5.41 20L4 18.59l7.72-7.72 1.47 1.35L5.41 20z\"/>\n",
              "  </svg>\n",
              "      </button>\n",
              "      \n",
              "  <style>\n",
              "    .colab-df-container {\n",
              "      display:flex;\n",
              "      flex-wrap:wrap;\n",
              "      gap: 12px;\n",
              "    }\n",
              "\n",
              "    .colab-df-convert {\n",
              "      background-color: #E8F0FE;\n",
              "      border: none;\n",
              "      border-radius: 50%;\n",
              "      cursor: pointer;\n",
              "      display: none;\n",
              "      fill: #1967D2;\n",
              "      height: 32px;\n",
              "      padding: 0 0 0 0;\n",
              "      width: 32px;\n",
              "    }\n",
              "\n",
              "    .colab-df-convert:hover {\n",
              "      background-color: #E2EBFA;\n",
              "      box-shadow: 0px 1px 2px rgba(60, 64, 67, 0.3), 0px 1px 3px 1px rgba(60, 64, 67, 0.15);\n",
              "      fill: #174EA6;\n",
              "    }\n",
              "\n",
              "    [theme=dark] .colab-df-convert {\n",
              "      background-color: #3B4455;\n",
              "      fill: #D2E3FC;\n",
              "    }\n",
              "\n",
              "    [theme=dark] .colab-df-convert:hover {\n",
              "      background-color: #434B5C;\n",
              "      box-shadow: 0px 1px 3px 1px rgba(0, 0, 0, 0.15);\n",
              "      filter: drop-shadow(0px 1px 2px rgba(0, 0, 0, 0.3));\n",
              "      fill: #FFFFFF;\n",
              "    }\n",
              "  </style>\n",
              "\n",
              "      <script>\n",
              "        const buttonEl =\n",
              "          document.querySelector('#df-7826729e-d192-4827-9ef3-18c938929788 button.colab-df-convert');\n",
              "        buttonEl.style.display =\n",
              "          google.colab.kernel.accessAllowed ? 'block' : 'none';\n",
              "\n",
              "        async function convertToInteractive(key) {\n",
              "          const element = document.querySelector('#df-7826729e-d192-4827-9ef3-18c938929788');\n",
              "          const dataTable =\n",
              "            await google.colab.kernel.invokeFunction('convertToInteractive',\n",
              "                                                     [key], {});\n",
              "          if (!dataTable) return;\n",
              "\n",
              "          const docLinkHtml = 'Like what you see? Visit the ' +\n",
              "            '<a target=\"_blank\" href=https://colab.research.google.com/notebooks/data_table.ipynb>data table notebook</a>'\n",
              "            + ' to learn more about interactive tables.';\n",
              "          element.innerHTML = '';\n",
              "          dataTable['output_type'] = 'display_data';\n",
              "          await google.colab.output.renderOutput(dataTable, element);\n",
              "          const docLink = document.createElement('div');\n",
              "          docLink.innerHTML = docLinkHtml;\n",
              "          element.appendChild(docLink);\n",
              "        }\n",
              "      </script>\n",
              "    </div>\n",
              "  </div>\n",
              "  "
            ]
          },
          "metadata": {},
          "execution_count": 22
        }
      ]
    },
    {
      "cell_type": "code",
      "source": [
        "#Verificando o intervalo da quantidade de pessoas por família e média de pessoas\n",
        "data_qtdPessoas = df_familia[[\"qtde_pessoas\"]]\n",
        "media_qtdPessoas = df_familia['qtde_pessoas'].mean()\n",
        "print(f\"Quantidade mínima de pessoas: {data_qtdPessoas.min()}\")\n",
        "print(f\"Quantidade máxima de pessoas: {data_qtdPessoas.max()}\")\n",
        "print(f'Média de pessoas por família: {media_qtdPessoas}')\n",
        "\n",
        "#Verificando quantidade de membros na família\n",
        "dados_qtdPessoas = df_familia[[\"qtde_pessoas\"]]\n",
        "sns.boxplot(data=dados_qtdPessoas)"
      ],
      "metadata": {
        "id": "d8ykjGCGGzd-",
        "outputId": "93a6e63b-6d47-43eb-9af1-6ea9ad86a1bd",
        "colab": {
          "base_uri": "https://localhost:8080/",
          "height": 370
        }
      },
      "execution_count": 68,
      "outputs": [
        {
          "output_type": "stream",
          "name": "stdout",
          "text": [
            "Quantidade mínima de pessoas: qtde_pessoas    1\n",
            "dtype: int64\n",
            "Quantidade máxima de pessoas: qtde_pessoas    14\n",
            "dtype: int64\n",
            "Média de pessoas por família: 2.7210401891252953\n"
          ]
        },
        {
          "output_type": "execute_result",
          "data": {
            "text/plain": [
              "<matplotlib.axes._subplots.AxesSubplot at 0x7fb98bd6fb90>"
            ]
          },
          "metadata": {},
          "execution_count": 68
        },
        {
          "output_type": "display_data",
          "data": {
            "text/plain": [
              "<Figure size 432x288 with 1 Axes>"
            ],
            "image/png": "[encoded data removed]"
          },
          "metadata": {
            "needs_background": "light"
          }
        }
      ]
    },
    {
      "cell_type": "markdown",
      "source": [
        "\n",
        "Realizando uma análise de dados pela quantidade de pessoas numa família temos: 1 pessoa como valor mínimo, 14 como valor máximo e em média 2.72 pessoas. Com base no diagrama de boxplot podemos perceber que a maior quantidade de pessoas está entre 2 e 4 pessoas por família, já verificando os outliers(que seriam os valores 'extremos' onde não possuem com frenquência) vemos quede 8 à 14 pessoas são os valores mais 'extremos' da base."
      ],
      "metadata": {
        "id": "pRq_c01-Ib4L"
      }
    },
    {
      "cell_type": "markdown",
      "source": [
        "---"
      ],
      "metadata": {
        "id": "YFTEj5BsRw0I"
      }
    },
    {
      "cell_type": "markdown",
      "source": [
        "#Análise de dados de Pessoas"
      ],
      "metadata": {
        "id": "IsrwBDLfD8ZK"
      }
    },
    {
      "cell_type": "code",
      "source": [
        "# Carrega a base de dados de pessoas\n",
        "data_pessoa = pd.read_csv(\"/content/drive/MyDrive/Dataset_CadastroUnico_Sergipe/data_pessoas_sergipe.csv\")\n"
      ],
      "metadata": {
        "id": "omHvLeWdR6fI"
      },
      "execution_count": 24,
      "outputs": []
    },
    {
      "cell_type": "code",
      "source": [
        "#Criando uma tabela com os dados que vamos utilizar\n",
        "df_pessoa = data_pessoa.iloc[:,[5,6,7,8,12]]\n",
        "\n",
        "df_pessoa"
      ],
      "metadata": {
        "id": "yAD8bP9RIx0-",
        "outputId": "56157aae-3d5a-4a2e-f3fc-7b3dfdd282f5",
        "colab": {
          "base_uri": "https://localhost:8080/",
          "height": 424
        }
      },
      "execution_count": 69,
      "outputs": [
        {
          "output_type": "execute_result",
          "data": {
            "text/plain": [
              "        cod_sexo_pessoa  idade  cod_parentesco_rf_pessoa  cod_raca_cor_pessoa  \\\n",
              "0                     1     19                         1                  4.0   \n",
              "1                     1     17                         3                  4.0   \n",
              "2                     1      4                         3                  4.0   \n",
              "3                     2      4                         3                  4.0   \n",
              "4                     1      7                         3                  2.0   \n",
              "...                 ...    ...                       ...                  ...   \n",
              "205609                1     33                         2                  4.0   \n",
              "205610                1      5                         3                  4.0   \n",
              "205611                1     18                         3                  4.0   \n",
              "205612                1     56                         2                  4.0   \n",
              "205613                1     20                         3                  4.0   \n",
              "\n",
              "        cod_sabe_ler_escrever_memb  \n",
              "0                              1.0  \n",
              "1                              1.0  \n",
              "2                              2.0  \n",
              "3                              2.0  \n",
              "4                              1.0  \n",
              "...                            ...  \n",
              "205609                         1.0  \n",
              "205610                         2.0  \n",
              "205611                         1.0  \n",
              "205612                         1.0  \n",
              "205613                         1.0  \n",
              "\n",
              "[205614 rows x 5 columns]"
            ],
            "text/html": [
              "\n",
              "  <div id=\"df-0fc240c9-54ca-4600-8a94-09d583d47cba\">\n",
              "    <div class=\"colab-df-container\">\n",
              "      <div>\n",
              "<style scoped>\n",
              "    .dataframe tbody tr th:only-of-type {\n",
              "        vertical-align: middle;\n",
              "    }\n",
              "\n",
              "    .dataframe tbody tr th {\n",
              "        vertical-align: top;\n",
              "    }\n",
              "\n",
              "    .dataframe thead th {\n",
              "        text-align: right;\n",
              "    }\n",
              "</style>\n",
              "<table border=\"1\" class=\"dataframe\">\n",
              "  <thead>\n",
              "    <tr style=\"text-align: right;\">\n",
              "      <th></th>\n",
              "      <th>cod_sexo_pessoa</th>\n",
              "      <th>idade</th>\n",
              "      <th>cod_parentesco_rf_pessoa</th>\n",
              "      <th>cod_raca_cor_pessoa</th>\n",
              "      <th>cod_sabe_ler_escrever_memb</th>\n",
              "    </tr>\n",
              "  </thead>\n",
              "  <tbody>\n",
              "    <tr>\n",
              "      <th>0</th>\n",
              "      <td>1</td>\n",
              "      <td>19</td>\n",
              "      <td>1</td>\n",
              "      <td>4.0</td>\n",
              "      <td>1.0</td>\n",
              "    </tr>\n",
              "    <tr>\n",
              "      <th>1</th>\n",
              "      <td>1</td>\n",
              "      <td>17</td>\n",
              "      <td>3</td>\n",
              "      <td>4.0</td>\n",
              "      <td>1.0</td>\n",
              "    </tr>\n",
              "    <tr>\n",
              "      <th>2</th>\n",
              "      <td>1</td>\n",
              "      <td>4</td>\n",
              "      <td>3</td>\n",
              "      <td>4.0</td>\n",
              "      <td>2.0</td>\n",
              "    </tr>\n",
              "    <tr>\n",
              "      <th>3</th>\n",
              "      <td>2</td>\n",
              "      <td>4</td>\n",
              "      <td>3</td>\n",
              "      <td>4.0</td>\n",
              "      <td>2.0</td>\n",
              "    </tr>\n",
              "    <tr>\n",
              "      <th>4</th>\n",
              "      <td>1</td>\n",
              "      <td>7</td>\n",
              "      <td>3</td>\n",
              "      <td>2.0</td>\n",
              "      <td>1.0</td>\n",
              "    </tr>\n",
              "    <tr>\n",
              "      <th>...</th>\n",
              "      <td>...</td>\n",
              "      <td>...</td>\n",
              "      <td>...</td>\n",
              "      <td>...</td>\n",
              "      <td>...</td>\n",
              "    </tr>\n",
              "    <tr>\n",
              "      <th>205609</th>\n",
              "      <td>1</td>\n",
              "      <td>33</td>\n",
              "      <td>2</td>\n",
              "      <td>4.0</td>\n",
              "      <td>1.0</td>\n",
              "    </tr>\n",
              "    <tr>\n",
              "      <th>205610</th>\n",
              "      <td>1</td>\n",
              "      <td>5</td>\n",
              "      <td>3</td>\n",
              "      <td>4.0</td>\n",
              "      <td>2.0</td>\n",
              "    </tr>\n",
              "    <tr>\n",
              "      <th>205611</th>\n",
              "      <td>1</td>\n",
              "      <td>18</td>\n",
              "      <td>3</td>\n",
              "      <td>4.0</td>\n",
              "      <td>1.0</td>\n",
              "    </tr>\n",
              "    <tr>\n",
              "      <th>205612</th>\n",
              "      <td>1</td>\n",
              "      <td>56</td>\n",
              "      <td>2</td>\n",
              "      <td>4.0</td>\n",
              "      <td>1.0</td>\n",
              "    </tr>\n",
              "    <tr>\n",
              "      <th>205613</th>\n",
              "      <td>1</td>\n",
              "      <td>20</td>\n",
              "      <td>3</td>\n",
              "      <td>4.0</td>\n",
              "      <td>1.0</td>\n",
              "    </tr>\n",
              "  </tbody>\n",
              "</table>\n",
              "<p>205614 rows × 5 columns</p>\n",
              "</div>\n",
              "      <button class=\"colab-df-convert\" onclick=\"convertToInteractive('df-0fc240c9-54ca-4600-8a94-09d583d47cba')\"\n",
              "              title=\"Convert this dataframe to an interactive table.\"\n",
              "              style=\"display:none;\">\n",
              "        \n",
              "  <svg xmlns=\"http://www.w3.org/2000/svg\" height=\"24px\"viewBox=\"0 0 24 24\"\n",
              "       width=\"24px\">\n",
              "    <path d=\"M0 0h24v24H0V0z\" fill=\"none\"/>\n",
              "    <path d=\"M18.56 5.44l.94 2.06.94-2.06 2.06-.94-2.06-.94-.94-2.06-.94 2.06-2.06.94zm-11 1L8.5 8.5l.94-2.06 2.06-.94-2.06-.94L8.5 2.5l-.94 2.06-2.06.94zm10 10l.94 2.06.94-2.06 2.06-.94-2.06-.94-.94-2.06-.94 2.06-2.06.94z\"/><path d=\"M17.41 7.96l-1.37-1.37c-.4-.4-.92-.59-1.43-.59-.52 0-1.04.2-1.43.59L10.3 9.45l-7.72 7.72c-.78.78-.78 2.05 0 2.83L4 21.41c.39.39.9.59 1.41.59.51 0 1.02-.2 1.41-.59l7.78-7.78 2.81-2.81c.8-.78.8-2.07 0-2.86zM5.41 20L4 18.59l7.72-7.72 1.47 1.35L5.41 20z\"/>\n",
              "  </svg>\n",
              "      </button>\n",
              "      \n",
              "  <style>\n",
              "    .colab-df-container {\n",
              "      display:flex;\n",
              "      flex-wrap:wrap;\n",
              "      gap: 12px;\n",
              "    }\n",
              "\n",
              "    .colab-df-convert {\n",
              "      background-color: #E8F0FE;\n",
              "      border: none;\n",
              "      border-radius: 50%;\n",
              "      cursor: pointer;\n",
              "      display: none;\n",
              "      fill: #1967D2;\n",
              "      height: 32px;\n",
              "      padding: 0 0 0 0;\n",
              "      width: 32px;\n",
              "    }\n",
              "\n",
              "    .colab-df-convert:hover {\n",
              "      background-color: #E2EBFA;\n",
              "      box-shadow: 0px 1px 2px rgba(60, 64, 67, 0.3), 0px 1px 3px 1px rgba(60, 64, 67, 0.15);\n",
              "      fill: #174EA6;\n",
              "    }\n",
              "\n",
              "    [theme=dark] .colab-df-convert {\n",
              "      background-color: #3B4455;\n",
              "      fill: #D2E3FC;\n",
              "    }\n",
              "\n",
              "    [theme=dark] .colab-df-convert:hover {\n",
              "      background-color: #434B5C;\n",
              "      box-shadow: 0px 1px 3px 1px rgba(0, 0, 0, 0.15);\n",
              "      filter: drop-shadow(0px 1px 2px rgba(0, 0, 0, 0.3));\n",
              "      fill: #FFFFFF;\n",
              "    }\n",
              "  </style>\n",
              "\n",
              "      <script>\n",
              "        const buttonEl =\n",
              "          document.querySelector('#df-0fc240c9-54ca-4600-8a94-09d583d47cba button.colab-df-convert');\n",
              "        buttonEl.style.display =\n",
              "          google.colab.kernel.accessAllowed ? 'block' : 'none';\n",
              "\n",
              "        async function convertToInteractive(key) {\n",
              "          const element = document.querySelector('#df-0fc240c9-54ca-4600-8a94-09d583d47cba');\n",
              "          const dataTable =\n",
              "            await google.colab.kernel.invokeFunction('convertToInteractive',\n",
              "                                                     [key], {});\n",
              "          if (!dataTable) return;\n",
              "\n",
              "          const docLinkHtml = 'Like what you see? Visit the ' +\n",
              "            '<a target=\"_blank\" href=https://colab.research.google.com/notebooks/data_table.ipynb>data table notebook</a>'\n",
              "            + ' to learn more about interactive tables.';\n",
              "          element.innerHTML = '';\n",
              "          dataTable['output_type'] = 'display_data';\n",
              "          await google.colab.output.renderOutput(dataTable, element);\n",
              "          const docLink = document.createElement('div');\n",
              "          docLink.innerHTML = docLinkHtml;\n",
              "          element.appendChild(docLink);\n",
              "        }\n",
              "      </script>\n",
              "    </div>\n",
              "  </div>\n",
              "  "
            ]
          },
          "metadata": {},
          "execution_count": 69
        }
      ]
    },
    {
      "cell_type": "code",
      "source": [
        "#transformação de dados para qualitativo\n",
        "\n",
        "###obs: rodar uma vez, depois da primeira vez vai dar erro\n",
        "\n",
        "#transformação de dados de cor ou raça\n",
        "df_pessoa['cod_raca_cor_pessoa'] = pd.cut(df_pessoa['cod_raca_cor_pessoa'],bins=[1.0,2.0,3.0,4.0,5.0,float('inf')],right=False,labels=['Branca','Preta','Amarela','Parda','Indígena'])\n",
        "df_pessoa.rename(columns = {'cod_raca_cor_pessoa' : 'Cor ou raça'}, inplace = True)\n",
        "\n",
        "#transformação de dados de sexo\n",
        "df_pessoa['cod_sexo_pessoa'] = pd.cut(df_pessoa['cod_sexo_pessoa'],bins=[1.0,2.0,float('inf')],right=False,labels=['Masculino','Feminino'])\n",
        "df_pessoa.rename(columns = {'cod_sexo_pessoa' : 'Sexo'}, inplace = True)\n",
        "\n",
        "#transformação de dados de relaçao de parentesco com o RF\n",
        "df_pessoa['cod_parentesco_rf_pessoa'] = pd.cut(df_pessoa['cod_parentesco_rf_pessoa'],bins=[1,2,3,4,5,6,7,8,9,10,11,float('inf')],right=False,labels=['Pessoa Responsável pela Unidade Familiar - RF','Cônjuge ou companheiro(a)','Filho(a)','Enteado(a)','Neto(a) ou bisneto(a)','Pai ou mãe','Sogro(a)','Irmão ou irmã', 'Genro ou nora','Outro parente', 'Não parente'])\n",
        "df_pessoa.rename(columns = {'cod_parentesco_rf_pessoa' : 'Relaçao de parentesco com o RF'}, inplace = True)\n",
        "\n",
        "#transformação de dados de analfabeto\n",
        "df_pessoa['cod_sabe_ler_escrever_memb'] = pd.cut(df_pessoa['cod_sabe_ler_escrever_memb'],bins=[1.0,2.0,float('inf')],right=False,labels=['Sim','Não'])\n",
        "df_pessoa.rename(columns = {'cod_sabe_ler_escrever_memb' : 'Analfabeto?'}, inplace = True)\n",
        "\n",
        "df_pessoa\n"
      ],
      "metadata": {
        "id": "DJs2si1q9duj",
        "outputId": "637eae0e-af88-4746-a341-1e84115cbd33",
        "colab": {
          "base_uri": "https://localhost:8080/",
          "height": 910
        }
      },
      "execution_count": 66,
      "outputs": [
        {
          "output_type": "stream",
          "name": "stderr",
          "text": [
            "/usr/local/lib/python3.7/dist-packages/ipykernel_launcher.py:6: SettingWithCopyWarning: \n",
            "A value is trying to be set on a copy of a slice from a DataFrame.\n",
            "Try using .loc[row_indexer,col_indexer] = value instead\n",
            "\n",
            "See the caveats in the documentation: https://pandas.pydata.org/pandas-docs/stable/user_guide/indexing.html#returning-a-view-versus-a-copy\n",
            "  \n",
            "/usr/local/lib/python3.7/dist-packages/pandas/core/frame.py:5047: SettingWithCopyWarning: \n",
            "A value is trying to be set on a copy of a slice from a DataFrame\n",
            "\n",
            "See the caveats in the documentation: https://pandas.pydata.org/pandas-docs/stable/user_guide/indexing.html#returning-a-view-versus-a-copy\n",
            "  errors=errors,\n",
            "/usr/local/lib/python3.7/dist-packages/ipykernel_launcher.py:10: SettingWithCopyWarning: \n",
            "A value is trying to be set on a copy of a slice from a DataFrame.\n",
            "Try using .loc[row_indexer,col_indexer] = value instead\n",
            "\n",
            "See the caveats in the documentation: https://pandas.pydata.org/pandas-docs/stable/user_guide/indexing.html#returning-a-view-versus-a-copy\n",
            "  # Remove the CWD from sys.path while we load stuff.\n",
            "/usr/local/lib/python3.7/dist-packages/ipykernel_launcher.py:14: SettingWithCopyWarning: \n",
            "A value is trying to be set on a copy of a slice from a DataFrame.\n",
            "Try using .loc[row_indexer,col_indexer] = value instead\n",
            "\n",
            "See the caveats in the documentation: https://pandas.pydata.org/pandas-docs/stable/user_guide/indexing.html#returning-a-view-versus-a-copy\n",
            "  \n",
            "/usr/local/lib/python3.7/dist-packages/ipykernel_launcher.py:18: SettingWithCopyWarning: \n",
            "A value is trying to be set on a copy of a slice from a DataFrame.\n",
            "Try using .loc[row_indexer,col_indexer] = value instead\n",
            "\n",
            "See the caveats in the documentation: https://pandas.pydata.org/pandas-docs/stable/user_guide/indexing.html#returning-a-view-versus-a-copy\n"
          ]
        },
        {
          "output_type": "execute_result",
          "data": {
            "text/plain": [
              "             Sexo  idade                 Relaçao de parentesco com o RF  \\\n",
              "0       Masculino     19  Pessoa Responsável pela Unidade Familiar - RF   \n",
              "1       Masculino     17                                       Filho(a)   \n",
              "2       Masculino      4                                       Filho(a)   \n",
              "3        Feminino      4                                       Filho(a)   \n",
              "4       Masculino      7                                       Filho(a)   \n",
              "...           ...    ...                                            ...   \n",
              "205609  Masculino     33                      Cônjuge ou companheiro(a)   \n",
              "205610  Masculino      5                                       Filho(a)   \n",
              "205611  Masculino     18                                       Filho(a)   \n",
              "205612  Masculino     56                      Cônjuge ou companheiro(a)   \n",
              "205613  Masculino     20                                       Filho(a)   \n",
              "\n",
              "       Cor ou raça Analfabeto?  \n",
              "0            Parda         Sim  \n",
              "1            Parda         Sim  \n",
              "2            Parda         Não  \n",
              "3            Parda         Não  \n",
              "4            Preta         Sim  \n",
              "...            ...         ...  \n",
              "205609       Parda         Sim  \n",
              "205610       Parda         Não  \n",
              "205611       Parda         Sim  \n",
              "205612       Parda         Sim  \n",
              "205613       Parda         Sim  \n",
              "\n",
              "[205614 rows x 5 columns]"
            ],
            "text/html": [
              "\n",
              "  <div id=\"df-80a45b3f-cdbf-4738-8b89-019cd24c6ae1\">\n",
              "    <div class=\"colab-df-container\">\n",
              "      <div>\n",
              "<style scoped>\n",
              "    .dataframe tbody tr th:only-of-type {\n",
              "        vertical-align: middle;\n",
              "    }\n",
              "\n",
              "    .dataframe tbody tr th {\n",
              "        vertical-align: top;\n",
              "    }\n",
              "\n",
              "    .dataframe thead th {\n",
              "        text-align: right;\n",
              "    }\n",
              "</style>\n",
              "<table border=\"1\" class=\"dataframe\">\n",
              "  <thead>\n",
              "    <tr style=\"text-align: right;\">\n",
              "      <th></th>\n",
              "      <th>Sexo</th>\n",
              "      <th>idade</th>\n",
              "      <th>Relaçao de parentesco com o RF</th>\n",
              "      <th>Cor ou raça</th>\n",
              "      <th>Analfabeto?</th>\n",
              "    </tr>\n",
              "  </thead>\n",
              "  <tbody>\n",
              "    <tr>\n",
              "      <th>0</th>\n",
              "      <td>Masculino</td>\n",
              "      <td>19</td>\n",
              "      <td>Pessoa Responsável pela Unidade Familiar - RF</td>\n",
              "      <td>Parda</td>\n",
              "      <td>Sim</td>\n",
              "    </tr>\n",
              "    <tr>\n",
              "      <th>1</th>\n",
              "      <td>Masculino</td>\n",
              "      <td>17</td>\n",
              "      <td>Filho(a)</td>\n",
              "      <td>Parda</td>\n",
              "      <td>Sim</td>\n",
              "    </tr>\n",
              "    <tr>\n",
              "      <th>2</th>\n",
              "      <td>Masculino</td>\n",
              "      <td>4</td>\n",
              "      <td>Filho(a)</td>\n",
              "      <td>Parda</td>\n",
              "      <td>Não</td>\n",
              "    </tr>\n",
              "    <tr>\n",
              "      <th>3</th>\n",
              "      <td>Feminino</td>\n",
              "      <td>4</td>\n",
              "      <td>Filho(a)</td>\n",
              "      <td>Parda</td>\n",
              "      <td>Não</td>\n",
              "    </tr>\n",
              "    <tr>\n",
              "      <th>4</th>\n",
              "      <td>Masculino</td>\n",
              "      <td>7</td>\n",
              "      <td>Filho(a)</td>\n",
              "      <td>Preta</td>\n",
              "      <td>Sim</td>\n",
              "    </tr>\n",
              "    <tr>\n",
              "      <th>...</th>\n",
              "      <td>...</td>\n",
              "      <td>...</td>\n",
              "      <td>...</td>\n",
              "      <td>...</td>\n",
              "      <td>...</td>\n",
              "    </tr>\n",
              "    <tr>\n",
              "      <th>205609</th>\n",
              "      <td>Masculino</td>\n",
              "      <td>33</td>\n",
              "      <td>Cônjuge ou companheiro(a)</td>\n",
              "      <td>Parda</td>\n",
              "      <td>Sim</td>\n",
              "    </tr>\n",
              "    <tr>\n",
              "      <th>205610</th>\n",
              "      <td>Masculino</td>\n",
              "      <td>5</td>\n",
              "      <td>Filho(a)</td>\n",
              "      <td>Parda</td>\n",
              "      <td>Não</td>\n",
              "    </tr>\n",
              "    <tr>\n",
              "      <th>205611</th>\n",
              "      <td>Masculino</td>\n",
              "      <td>18</td>\n",
              "      <td>Filho(a)</td>\n",
              "      <td>Parda</td>\n",
              "      <td>Sim</td>\n",
              "    </tr>\n",
              "    <tr>\n",
              "      <th>205612</th>\n",
              "      <td>Masculino</td>\n",
              "      <td>56</td>\n",
              "      <td>Cônjuge ou companheiro(a)</td>\n",
              "      <td>Parda</td>\n",
              "      <td>Sim</td>\n",
              "    </tr>\n",
              "    <tr>\n",
              "      <th>205613</th>\n",
              "      <td>Masculino</td>\n",
              "      <td>20</td>\n",
              "      <td>Filho(a)</td>\n",
              "      <td>Parda</td>\n",
              "      <td>Sim</td>\n",
              "    </tr>\n",
              "  </tbody>\n",
              "</table>\n",
              "<p>205614 rows × 5 columns</p>\n",
              "</div>\n",
              "      <button class=\"colab-df-convert\" onclick=\"convertToInteractive('df-80a45b3f-cdbf-4738-8b89-019cd24c6ae1')\"\n",
              "              title=\"Convert this dataframe to an interactive table.\"\n",
              "              style=\"display:none;\">\n",
              "        \n",
              "  <svg xmlns=\"http://www.w3.org/2000/svg\" height=\"24px\"viewBox=\"0 0 24 24\"\n",
              "       width=\"24px\">\n",
              "    <path d=\"M0 0h24v24H0V0z\" fill=\"none\"/>\n",
              "    <path d=\"M18.56 5.44l.94 2.06.94-2.06 2.06-.94-2.06-.94-.94-2.06-.94 2.06-2.06.94zm-11 1L8.5 8.5l.94-2.06 2.06-.94-2.06-.94L8.5 2.5l-.94 2.06-2.06.94zm10 10l.94 2.06.94-2.06 2.06-.94-2.06-.94-.94-2.06-.94 2.06-2.06.94z\"/><path d=\"M17.41 7.96l-1.37-1.37c-.4-.4-.92-.59-1.43-.59-.52 0-1.04.2-1.43.59L10.3 9.45l-7.72 7.72c-.78.78-.78 2.05 0 2.83L4 21.41c.39.39.9.59 1.41.59.51 0 1.02-.2 1.41-.59l7.78-7.78 2.81-2.81c.8-.78.8-2.07 0-2.86zM5.41 20L4 18.59l7.72-7.72 1.47 1.35L5.41 20z\"/>\n",
              "  </svg>\n",
              "      </button>\n",
              "      \n",
              "  <style>\n",
              "    .colab-df-container {\n",
              "      display:flex;\n",
              "      flex-wrap:wrap;\n",
              "      gap: 12px;\n",
              "    }\n",
              "\n",
              "    .colab-df-convert {\n",
              "      background-color: #E8F0FE;\n",
              "      border: none;\n",
              "      border-radius: 50%;\n",
              "      cursor: pointer;\n",
              "      display: none;\n",
              "      fill: #1967D2;\n",
              "      height: 32px;\n",
              "      padding: 0 0 0 0;\n",
              "      width: 32px;\n",
              "    }\n",
              "\n",
              "    .colab-df-convert:hover {\n",
              "      background-color: #E2EBFA;\n",
              "      box-shadow: 0px 1px 2px rgba(60, 64, 67, 0.3), 0px 1px 3px 1px rgba(60, 64, 67, 0.15);\n",
              "      fill: #174EA6;\n",
              "    }\n",
              "\n",
              "    [theme=dark] .colab-df-convert {\n",
              "      background-color: #3B4455;\n",
              "      fill: #D2E3FC;\n",
              "    }\n",
              "\n",
              "    [theme=dark] .colab-df-convert:hover {\n",
              "      background-color: #434B5C;\n",
              "      box-shadow: 0px 1px 3px 1px rgba(0, 0, 0, 0.15);\n",
              "      filter: drop-shadow(0px 1px 2px rgba(0, 0, 0, 0.3));\n",
              "      fill: #FFFFFF;\n",
              "    }\n",
              "  </style>\n",
              "\n",
              "      <script>\n",
              "        const buttonEl =\n",
              "          document.querySelector('#df-80a45b3f-cdbf-4738-8b89-019cd24c6ae1 button.colab-df-convert');\n",
              "        buttonEl.style.display =\n",
              "          google.colab.kernel.accessAllowed ? 'block' : 'none';\n",
              "\n",
              "        async function convertToInteractive(key) {\n",
              "          const element = document.querySelector('#df-80a45b3f-cdbf-4738-8b89-019cd24c6ae1');\n",
              "          const dataTable =\n",
              "            await google.colab.kernel.invokeFunction('convertToInteractive',\n",
              "                                                     [key], {});\n",
              "          if (!dataTable) return;\n",
              "\n",
              "          const docLinkHtml = 'Like what you see? Visit the ' +\n",
              "            '<a target=\"_blank\" href=https://colab.research.google.com/notebooks/data_table.ipynb>data table notebook</a>'\n",
              "            + ' to learn more about interactive tables.';\n",
              "          element.innerHTML = '';\n",
              "          dataTable['output_type'] = 'display_data';\n",
              "          await google.colab.output.renderOutput(dataTable, element);\n",
              "          const docLink = document.createElement('div');\n",
              "          docLink.innerHTML = docLinkHtml;\n",
              "          element.appendChild(docLink);\n",
              "        }\n",
              "      </script>\n",
              "    </div>\n",
              "  </div>\n",
              "  "
            ]
          },
          "metadata": {},
          "execution_count": 66
        }
      ]
    },
    {
      "cell_type": "markdown",
      "source": [
        "**Transformação dos dados para qualitativo**\n",
        "- Fizemos as transformações com base no diciónario de dados que nos foi disponibilizado:\n",
        " - Para **Cor ou raça** temos: \n",
        "   - **1.0 - Branca**;\n",
        "   - **2.0 - Preta**;\n",
        "   - **3.0 - Amarela**;\n",
        "   - **4.0 - Parda**;\n",
        "   - **5.0 - Indígena**;\n",
        "\n",
        " - Para **Sexo** temos: \n",
        "   - **1.0 - Masculino**;\n",
        "   - **2.0 - Feminino**;\n",
        "\n",
        " - Para **Cor ou raça** temos: \n",
        "   - **1 - Pessoa Responsável pela Unidade Familiar - RF**;\n",
        "   - **2 - Cônjuge ou companheiro(a)**;\n",
        "   - **3 - Filho(a)'**;\n",
        "   - **4 - Enteado(a)**;\n",
        "   - **5 - Neto(a) ou bisneto(a)**;\n",
        "   - **6 - Pai ou mãe**;\n",
        "   - **7 - Sogro(a)**;  \n",
        "   - **8 - Irmão ou irmã**;  \n",
        "   - **9 - Genro ou nora**;  \n",
        "   - **10 - Outro parente**;  \n",
        "   - **11 - Não parente**;  \n",
        "\n",
        " - Para **Analfabeto?** temos: \n",
        "   - **1.0 - Sim**;\n",
        "   - **2.0 - Não**;\n",
        "\n",
        " "
      ],
      "metadata": {
        "id": "_UhHA7gr3K4U"
      }
    },
    {
      "cell_type": "markdown",
      "source": [
        "##**Analisando cor e raça em pessoas**\n"
      ],
      "metadata": {
        "id": "DN_XmAlfXAZb"
      }
    },
    {
      "cell_type": "code",
      "source": [
        "#Parda > Banca > Preta > Amarela > Indígina \n",
        "#Cor ou raça\n",
        "#Parda - 166620\n",
        "#Branca -\t27640\n",
        "#Preta - 9997\n",
        "#Amarela -1027\n",
        "#Indígena - 274\n",
        "\n",
        "cor_da_raca = df_pessoa['Cor ou raça'].value_counts().to_frame()\n",
        "cor_da_raca.plot(kind='bar',color='blue')"
      ],
      "metadata": {
        "colab": {
          "base_uri": "https://localhost:8080/",
          "height": 316
        },
        "id": "ZuODR-SA-Ykn",
        "outputId": "45907160-b9d3-4b98-d3b0-f3507cdd7601"
      },
      "execution_count": null,
      "outputs": [
        {
          "output_type": "execute_result",
          "data": {
            "text/plain": [
              "<matplotlib.axes._subplots.AxesSubplot at 0x7fba21fb0c10>"
            ]
          },
          "metadata": {},
          "execution_count": 168
        },
        {
          "output_type": "display_data",
          "data": {
            "text/plain": [
              "<Figure size 432x288 with 1 Axes>"
            ],
            "image/png": "[encoded data removed]"
          },
          "metadata": {
            "needs_background": "light"
          }
        }
      ]
    },
    {
      "cell_type": "markdown",
      "source": [
        "- Podemos ver que a maior concentração de dados está na presente no grupo \"Parda\".\n",
        "- analisando o gráfico barras podemos ver que o grupo 'Parda' possui mais da metade da base de dados chegando a **81%** ."
      ],
      "metadata": {
        "id": "TF2g57OWW1Wn"
      }
    },
    {
      "cell_type": "code",
      "source": [
        "#Mulher > Homem\n",
        "#Sexo\n",
        "#Feminino -\t116695\n",
        "#Masculino -\t88919\n",
        "\n",
        "tipo_do_sexo = df_pessoa['Sexo'].value_counts().to_frame()\n",
        "\n",
        "tipo_do_sexo.plot(kind='bar',color='blue')"
      ],
      "metadata": {
        "colab": {
          "base_uri": "https://localhost:8080/",
          "height": 322
        },
        "id": "nE4zkZL3-pEH",
        "outputId": "361a507f-7c2b-4657-998a-fe6422f0fae4"
      },
      "execution_count": 58,
      "outputs": [
        {
          "output_type": "execute_result",
          "data": {
            "text/plain": [
              "<matplotlib.axes._subplots.AxesSubplot at 0x7fb98c54ce90>"
            ]
          },
          "metadata": {},
          "execution_count": 58
        },
        {
          "output_type": "display_data",
          "data": {
            "text/plain": [
              "<Figure size 432x288 with 1 Axes>"
            ],
            "image/png": "[encoded data removed]"
          },
          "metadata": {
            "needs_background": "light"
          }
        }
      ]
    },
    {
      "cell_type": "markdown",
      "source": [
        "- Analisando o gráfico de barras e também com o valor total de dados, de uma forma grosseira podemos ver que a bae possui **57%** de dados do sexo feminino e **43%** dos dados do sexo masculino. \n",
        "- Podemos dizer que a quantidade de cadastro feito pelo sexo feminino podem ser de mulheres gestantes, amamentadoras entre outros grupos femininos. "
      ],
      "metadata": {
        "id": "g9BaYT6rQWCD"
      }
    },
    {
      "cell_type": "markdown",
      "source": [
        "##**Analisando a quantidade de analfabetos em pessoas**\n"
      ],
      "metadata": {
        "id": "57oVS4oqSpOG"
      }
    },
    {
      "cell_type": "code",
      "source": [
        "#Sim > Não\n",
        "#Analfabeto?\n",
        "#Sim -\t150732\n",
        "#Não -\t54861\n",
        "\n",
        "e_analfabeto = df_pessoa['Analfabeto?'].value_counts().to_frame()\n",
        "\n",
        "e_analfabeto.plot(kind='bar',color='blue')"
      ],
      "metadata": {
        "colab": {
          "base_uri": "https://localhost:8080/",
          "height": 292
        },
        "id": "w-GuEsimEnMA",
        "outputId": "bc4071a5-7cf4-4073-8938-29b742f27181"
      },
      "execution_count": null,
      "outputs": [
        {
          "output_type": "execute_result",
          "data": {
            "text/plain": [
              "<matplotlib.axes._subplots.AxesSubplot at 0x7fba221a2490>"
            ]
          },
          "metadata": {},
          "execution_count": 142
        },
        {
          "output_type": "display_data",
          "data": {
            "text/plain": [
              "<Figure size 432x288 with 1 Axes>"
            ],
            "image/png": "[encoded data removed]"
          },
          "metadata": {
            "needs_background": "light"
          }
        }
      ]
    },
    {
      "cell_type": "markdown",
      "source": [
        "- Analisando os dados para idenficar a quantidade de analfabetos da base, temos: **74%** analfabetos e **26%** não analfabetos\n",
        "- Esses dados podem devirar de acordo com a história devido a maioria estudar em escolas publicas fazendo com que algumas pessoas comecem a largar a escola cedo para começarem a trabalhar, isso faz com o que número de analfabetos cresça."
      ],
      "metadata": {
        "id": "CF5wGLUlRi29"
      }
    },
    {
      "cell_type": "markdown",
      "source": [
        "##**Analisando a relação dos parentescos em pessoas**\n"
      ],
      "metadata": {
        "id": "QEiqWACvSzSC"
      }
    },
    {
      "cell_type": "markdown",
      "source": [
        "| Relaçao de parentesco com o RF | Quantidade |\n",
        "|---|---|\n",
        "Filho(a) |\t91214\n",
        "Pessoa Responsável pela Unidade Familia RF |\t82275\n",
        "Cônjuge ou companheiro(a)\t| 22975\n",
        "Neto(a) ou bisneto(a)\t| 4139\n",
        "Irmão ou irmã\t| 1633\n",
        "Outro parente\t|1435\n",
        "Pai ou mãe\t| 1224\n",
        "Enteado(a)\t| 372\n",
        "Não parente\t| 170\n",
        "Genro ou nora\t| 133\n",
        "Sogro(a)\t| 44"
      ],
      "metadata": {
        "id": "SSUSA2tIITtn"
      }
    },
    {
      "cell_type": "code",
      "source": [
        "#Relaçao de parentesco com o RF\n",
        "\n",
        "relacao_parentesco = df_pessoa['Relaçao de parentesco com o RF'].value_counts().to_frame()\n",
        "\n",
        "#relacao_parentesco\n",
        "\n",
        "relacao_parentesco.plot(kind='bar',color='blue')"
      ],
      "metadata": {
        "colab": {
          "base_uri": "https://localhost:8080/",
          "height": 507
        },
        "id": "-aewtrf6Hsvx",
        "outputId": "638c4eb3-5414-4536-ca02-1bcf44bdac0f"
      },
      "execution_count": null,
      "outputs": [
        {
          "output_type": "execute_result",
          "data": {
            "text/plain": [
              "<matplotlib.axes._subplots.AxesSubplot at 0x7fba2213a390>"
            ]
          },
          "metadata": {},
          "execution_count": 143
        },
        {
          "output_type": "display_data",
          "data": {
            "text/plain": [
              "<Figure size 432x288 with 1 Axes>"
            ],
            "image/png": "[encoded data removed]"
          },
          "metadata": {
            "needs_background": "light"
          }
        }
      ]
    },
    {
      "cell_type": "markdown",
      "source": [
        "Realizando uma análise dos dados do parentesco podemos concluir que boa parte derivam de filhos e de uma pessoa reponsável pela unidade familiar. Isso acontece devido a quantidade de pessoas que são reponsáveis por algúem quererem realizar o cadastro no bolsa família devido a baixa renda."
      ],
      "metadata": {
        "id": "MylIoYnaS-CU"
      }
    },
    {
      "cell_type": "markdown",
      "source": [
        "##**Idade de pessoas das pessoas**\n"
      ],
      "metadata": {
        "id": "v9K9tiMDLPA7"
      }
    },
    {
      "cell_type": "code",
      "source": [
        "df_pessoa['idade'].describe()"
      ],
      "metadata": {
        "id": "3WoU27rVLXXa",
        "outputId": "5cd76625-742e-46af-bbfc-7f333d48228c",
        "colab": {
          "base_uri": "https://localhost:8080/"
        }
      },
      "execution_count": 28,
      "outputs": [
        {
          "output_type": "execute_result",
          "data": {
            "text/plain": [
              "count     205614\n",
              "unique         4\n",
              "top       adulto\n",
              "freq      104966\n",
              "Name: idade, dtype: object"
            ]
          },
          "metadata": {},
          "execution_count": 28
        }
      ]
    },
    {
      "cell_type": "code",
      "source": [
        "#Verificando o intervalo da idade e média de idade das pessoas\n",
        "data_idadePessoa = df_pessoa[[\"idade\"]]\n",
        "media_idadePessoa = df_pessoa['idade'].mean()\n",
        "print(f\"Quantidade mínima: {data_idadePessoa.min()}\")\n",
        "print(f\"Quantidade máxima : {data_idadePessoa.max()}\")\n",
        "print(f'Média: {media_idadePessoa}')\n",
        "\n",
        "#Gerando gráfico da idade\n",
        "dados_idadePessoa = df_pessoa[[\"idade\"]]\n",
        "sns.boxplot(data=dados_idadePessoa)"
      ],
      "metadata": {
        "id": "OusfEXYhL50U",
        "outputId": "038c9178-11bc-46a2-d03f-7bc4d136bf64",
        "colab": {
          "base_uri": "https://localhost:8080/",
          "height": 369
        }
      },
      "execution_count": 61,
      "outputs": [
        {
          "output_type": "stream",
          "name": "stdout",
          "text": [
            "Quantidade mínima: idade    0\n",
            "dtype: int64\n",
            "Quantidade máxima : idade    112\n",
            "dtype: int64\n",
            "Média: 25.832720534593946\n"
          ]
        },
        {
          "output_type": "execute_result",
          "data": {
            "text/plain": [
              "<matplotlib.axes._subplots.AxesSubplot at 0x7fb98be0e910>"
            ]
          },
          "metadata": {},
          "execution_count": 61
        },
        {
          "output_type": "display_data",
          "data": {
            "text/plain": [
              "<Figure size 432x288 with 1 Axes>"
            ],
            "image/png": "[encoded data removed]"
          },
          "metadata": {
            "needs_background": "light"
          }
        }
      ]
    },
    {
      "cell_type": "markdown",
      "source": [
        "- Com esses dados podemos analisar que existem cadastros com recém nascidos na base(com 0 de idade) como valor mínimo, também possui pessoas acima de 112 anos de idade como valor máximo. Possui uma média de 2,72 anos de idade na base\n",
        "- Analisando o boxplot podemos ver que a maior concentração de idade está entre  15 e 40 anos de idade. Posssuindo também alguns outliers que variam de 80 até maiores que 100 anos de idade."
      ],
      "metadata": {
        "id": "RmfCke8DT857"
      }
    },
    {
      "cell_type": "code",
      "source": [
        "#transformação de dados da idade\n",
        "df_pessoa['idade'] = pd.cut(df_pessoa['idade'],bins=[0,13,19,60,float(\"inf\")],right=False,labels=['criança','adolescente','adulto','idoso'])\n"
      ],
      "metadata": {
        "id": "XpNbm1O3VOl8",
        "outputId": "68ea70b9-7184-448a-8891-b39ff96164fa",
        "colab": {
          "base_uri": "https://localhost:8080/"
        }
      },
      "execution_count": 62,
      "outputs": [
        {
          "output_type": "stream",
          "name": "stderr",
          "text": [
            "/usr/local/lib/python3.7/dist-packages/ipykernel_launcher.py:2: SettingWithCopyWarning: \n",
            "A value is trying to be set on a copy of a slice from a DataFrame.\n",
            "Try using .loc[row_indexer,col_indexer] = value instead\n",
            "\n",
            "See the caveats in the documentation: https://pandas.pydata.org/pandas-docs/stable/user_guide/indexing.html#returning-a-view-versus-a-copy\n",
            "  \n"
          ]
        }
      ]
    },
    {
      "cell_type": "markdown",
      "source": [
        "###Para uma segunda análise transformamos os dados para qualitativos, assim:\n",
        "- **[0,13] - criança**;\n",
        "- **[13,19] - adolescente**;\n",
        "- **[19,60] - adulto**;\n",
        "- **[60,infitinho] - idoso**;"
      ],
      "metadata": {
        "id": "Ql9W_jNRVPOW"
      }
    },
    {
      "cell_type": "code",
      "source": [
        "# idade\n",
        "# adulto - 104966\n",
        "# criança\t- 61954\n",
        "# adolescente\t- 27610\n",
        "# idoso\t- 11084\n",
        "\n",
        "\n",
        "idade_pessoa = df_pessoa['idade'].value_counts().to_frame()\n",
        "\n",
        "idade_pessoa.plot(kind='bar',color='blue')"
      ],
      "metadata": {
        "id": "frx3ARCnMCUD",
        "outputId": "3d4fa2f1-4207-45fd-af51-f6eeb6ef8294",
        "colab": {
          "base_uri": "https://localhost:8080/",
          "height": 333
        }
      },
      "execution_count": 64,
      "outputs": [
        {
          "output_type": "execute_result",
          "data": {
            "text/plain": [
              "<matplotlib.axes._subplots.AxesSubplot at 0x7fb98bdf77d0>"
            ]
          },
          "metadata": {},
          "execution_count": 64
        },
        {
          "output_type": "display_data",
          "data": {
            "text/plain": [
              "<Figure size 432x288 with 1 Axes>"
            ],
            "image/png": "[encoded data removed]"
          },
          "metadata": {
            "needs_background": "light"
          }
        }
      ]
    },
    {
      "cell_type": "markdown",
      "source": [
        "- Com essa organização de dados podemos ver que as maiores concentrações de pessoas estão presentes nas faixas etárias **adulta** e **criança**. \n",
        "- Fazendo uma análise por porcentagem temos: **51%** adulto, **30%** criança, **13%** adolescente e **6%** idoso."
      ],
      "metadata": {
        "id": "9XLd3UmhVoa_"
      }
    }
  ]
}