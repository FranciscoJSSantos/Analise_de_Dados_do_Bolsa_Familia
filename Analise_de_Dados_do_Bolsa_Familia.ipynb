{
  "nbformat": 4,
  "nbformat_minor": 0,
  "metadata": {
    "colab": {
      "name": "Analise_de_Dados_do_Bolsa_Familia.ipynb",
      "provenance": [],
      "toc_visible": true,
      "mount_file_id": "1r5uo-Pd7DHTDjg6QZ7ylXb4kFTlleKue",
      "authorship_tag": "ABX9TyPs4Jp4xYTxKWIJX0n0Xo8O",
      "include_colab_link": true
    },
    "kernelspec": {
      "name": "python3",
      "display_name": "Python 3"
    },
    "language_info": {
      "name": "python"
    }
  },
  "cells": [
    {
      "cell_type": "markdown",
      "metadata": {
        "id": "view-in-github",
        "colab_type": "text"
      },
      "source": [
        "<a href=\"https://colab.research.google.com/github/FranciscoJSSantos/Analise_de_Dados_do_Bolsa_Familia/blob/main/Analise_de_Dados_do_Bolsa_Familia.ipynb\" target=\"_parent\"><img src=\"https://colab.research.google.com/assets/colab-badge.svg\" alt=\"Open In Colab\"/></a>"
      ]
    },
    {
      "cell_type": "markdown",
      "source": [
        "##LINK PARA BAIXAR A TABELA DE DADOS NO DRIVE:\n",
        "\n",
        "- [Dataset_CadastroUnico_Sergipe](https://drive.google.com/drive/folders/1oOvuSPC41LXvvuxFS3jeKCXfFkeSWcI6?usp=sharing)\n",
        "\n",
        "\n",
        "\n",
        "##ALGUMAS INFORMAÇÕES SOBRE A BASE DE DADOS\n",
        "\n",
        "- [Mais informações sobre o cadastro único](https://aplicacoes.mds.gov.br/sagirmps/ferramentas/docs/manual_do_pesquisador_cadastro_unico_semlogo.**pdf**)\n",
        "\n",
        "\n",
        "- [Mais informações sobre o bolsa família](https://aplicacoes.mds.gov.br/sagirmps/ferramentas/docs/manual_do_pesquisador_gestao_bolsa_familia_semlogo.pdf)\n"
      ],
      "metadata": {
        "id": "raljbP-vOB-O"
      }
    },
    {
      "cell_type": "markdown",
      "source": [
        "---"
      ],
      "metadata": {
        "id": "AHfEx3dnXGkH"
      }
    },
    {
      "cell_type": "code",
      "execution_count": null,
      "metadata": {
        "id": "iQ-V2oDpMmgV"
      },
      "outputs": [],
      "source": [
        "# Imports Necessários\n",
        "import pandas as pd\n",
        "import seaborn as sns\n",
        "import matplotlib.pyplot as plt"
      ]
    },
    {
      "cell_type": "code",
      "source": [
        "# Carrega a base de dados de familia\n",
        "data = pd.read_csv(\"data_familia_sergipe.csv\")"
      ],
      "metadata": {
        "id": "UpAsU3mURrQD"
      },
      "execution_count": null,
      "outputs": []
    },
    {
      "cell_type": "code",
      "source": [
        "# Carrega a base de dados de pessoas\n",
        "data2 = pd.read_csv(\"data_pessoas_sergipe.csv\")"
      ],
      "metadata": {
        "id": "omHvLeWdR6fI"
      },
      "execution_count": null,
      "outputs": []
    }
  ]
}