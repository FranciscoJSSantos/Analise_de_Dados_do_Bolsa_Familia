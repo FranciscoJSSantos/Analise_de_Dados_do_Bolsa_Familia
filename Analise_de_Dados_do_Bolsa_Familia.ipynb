{
  "nbformat": 4,
  "nbformat_minor": 0,
  "metadata": {
    "colab": {
      "name": "Analise_de_Dados_do_Bolsa_Familia.ipynb",
      "provenance": [],
      "mount_file_id": "https://github.com/FranciscoJSSantos/Analise_de_Dados_do_Bolsa_Familia/blob/main/Analise_de_Dados_do_Bolsa_Familia.ipynb",
      "authorship_tag": "ABX9TyPjYO65Z43+ftWmbxoazBG1",
      "include_colab_link": true
    },
    "kernelspec": {
      "name": "python3",
      "display_name": "Python 3"
    },
    "language_info": {
      "name": "python"
    }
  },
  "cells": [
    {
      "cell_type": "markdown",
      "metadata": {
        "id": "view-in-github",
        "colab_type": "text"
      },
      "source": [
        "<a href=\"https://colab.research.google.com/github/FranciscoJSSantos/Analise_de_Dados_do_Bolsa_Familia/blob/main/Analise_de_Dados_do_Bolsa_Familia.ipynb\" target=\"_parent\"><img src=\"https://colab.research.google.com/assets/colab-badge.svg\" alt=\"Open In Colab\"/></a>"
      ]
    },
    {
      "cell_type": "markdown",
      "source": [
        "#Análise de dados do Bolsa Família\n",
        "---\n",
        "###Membros:\n",
        "- Francisco José dos Santos Santana\n",
        "- Danilo Michell Lisboa de Freitas"
      ],
      "metadata": {
        "id": "vKwDEHG52EMH"
      }
    },
    {
      "cell_type": "markdown",
      "source": [
        "###LINK PARA BAIXAR A TABELA DE DADOS NO DRIVE:\n",
        "\n",
        "- [Dataset_CadastroUnico_Sergipe](https://drive.google.com/drive/folders/1oOvuSPC41LXvvuxFS3jeKCXfFkeSWcI6?usp=sharing)\n",
        "\n",
        "\n",
        "\n",
        "###LINKS COM ALGUMAS INFORMAÇÕES SOBRE A BASE DE DADOS\n",
        "\n",
        "- [Mais informações sobre o cadastro único](https://aplicacoes.mds.gov.br/sagirmps/ferramentas/docs/manual_do_pesquisador_cadastro_unico_semlogo.**pdf**)\n",
        "\n",
        "\n",
        "- [Mais informações sobre o bolsa família](https://aplicacoes.mds.gov.br/sagirmps/ferramentas/docs/manual_do_pesquisador_gestao_bolsa_familia_semlogo.pdf)\n"
      ],
      "metadata": {
        "id": "raljbP-vOB-O"
      }
    },
    {
      "cell_type": "markdown",
      "source": [
        "##Imports necessários para funcionamento do projeto"
      ],
      "metadata": {
        "id": "CJHQ4Yrg3RSE"
      }
    },
    {
      "cell_type": "code",
      "execution_count": 214,
      "metadata": {
        "id": "iQ-V2oDpMmgV"
      },
      "outputs": [],
      "source": [
        "#Imports Necessários\n",
        "import pandas as pd\n",
        "import seaborn as sns\n",
        "import matplotlib.pyplot as plt\n",
        "import numpy as np\n",
        "import seaborn as sns"
      ]
    },
    {
      "cell_type": "markdown",
      "source": [
        "#Análise de dados de Famílias"
      ],
      "metadata": {
        "id": "Y1GMc1IMFFLi"
      }
    },
    {
      "cell_type": "code",
      "source": [
        "#Carrega a base de dados de familia\n",
        "data_familia = pd.read_csv(\"/content/drive/MyDrive/Dataset_CadastroUnico_Sergipe/data_familia_sergipe.csv\")"
      ],
      "metadata": {
        "id": "UpAsU3mURrQD"
      },
      "execution_count": 215,
      "outputs": []
    },
    {
      "cell_type": "code",
      "source": [
        "df_familia = data_familia.iloc[:,[6,8,9]]\n",
        "\n",
        "df_familia"
      ],
      "metadata": {
        "colab": {
          "base_uri": "https://localhost:8080/",
          "height": 424
        },
        "id": "JT5w20RjR039",
        "outputId": "025a2d38-122e-4d17-ba40-3f9d82c36cce"
      },
      "execution_count": 226,
      "outputs": [
        {
          "output_type": "execute_result",
          "data": {
            "text/plain": [
              "       vlr_renda_media_fam  cod_local_domic_fam  cod_especie_domic_fam\n",
              "0                     58.0                  1.0                    1.0\n",
              "1                    190.0                  2.0                    1.0\n",
              "2                    100.0                  1.0                    1.0\n",
              "3                    937.0                  1.0                    1.0\n",
              "4                     25.0                  2.0                    1.0\n",
              "...                    ...                  ...                    ...\n",
              "82270                100.0                  1.0                    1.0\n",
              "82271                  8.0                  1.0                    1.0\n",
              "82272                 97.0                  1.0                    1.0\n",
              "82273                880.0                  1.0                    1.0\n",
              "82274                300.0                  1.0                    1.0\n",
              "\n",
              "[82275 rows x 3 columns]"
            ],
            "text/html": [
              "\n",
              "  <div id=\"df-d13f8164-a408-4af2-bf64-8d795dc95f2f\">\n",
              "    <div class=\"colab-df-container\">\n",
              "      <div>\n",
              "<style scoped>\n",
              "    .dataframe tbody tr th:only-of-type {\n",
              "        vertical-align: middle;\n",
              "    }\n",
              "\n",
              "    .dataframe tbody tr th {\n",
              "        vertical-align: top;\n",
              "    }\n",
              "\n",
              "    .dataframe thead th {\n",
              "        text-align: right;\n",
              "    }\n",
              "</style>\n",
              "<table border=\"1\" class=\"dataframe\">\n",
              "  <thead>\n",
              "    <tr style=\"text-align: right;\">\n",
              "      <th></th>\n",
              "      <th>vlr_renda_media_fam</th>\n",
              "      <th>cod_local_domic_fam</th>\n",
              "      <th>cod_especie_domic_fam</th>\n",
              "    </tr>\n",
              "  </thead>\n",
              "  <tbody>\n",
              "    <tr>\n",
              "      <th>0</th>\n",
              "      <td>58.0</td>\n",
              "      <td>1.0</td>\n",
              "      <td>1.0</td>\n",
              "    </tr>\n",
              "    <tr>\n",
              "      <th>1</th>\n",
              "      <td>190.0</td>\n",
              "      <td>2.0</td>\n",
              "      <td>1.0</td>\n",
              "    </tr>\n",
              "    <tr>\n",
              "      <th>2</th>\n",
              "      <td>100.0</td>\n",
              "      <td>1.0</td>\n",
              "      <td>1.0</td>\n",
              "    </tr>\n",
              "    <tr>\n",
              "      <th>3</th>\n",
              "      <td>937.0</td>\n",
              "      <td>1.0</td>\n",
              "      <td>1.0</td>\n",
              "    </tr>\n",
              "    <tr>\n",
              "      <th>4</th>\n",
              "      <td>25.0</td>\n",
              "      <td>2.0</td>\n",
              "      <td>1.0</td>\n",
              "    </tr>\n",
              "    <tr>\n",
              "      <th>...</th>\n",
              "      <td>...</td>\n",
              "      <td>...</td>\n",
              "      <td>...</td>\n",
              "    </tr>\n",
              "    <tr>\n",
              "      <th>82270</th>\n",
              "      <td>100.0</td>\n",
              "      <td>1.0</td>\n",
              "      <td>1.0</td>\n",
              "    </tr>\n",
              "    <tr>\n",
              "      <th>82271</th>\n",
              "      <td>8.0</td>\n",
              "      <td>1.0</td>\n",
              "      <td>1.0</td>\n",
              "    </tr>\n",
              "    <tr>\n",
              "      <th>82272</th>\n",
              "      <td>97.0</td>\n",
              "      <td>1.0</td>\n",
              "      <td>1.0</td>\n",
              "    </tr>\n",
              "    <tr>\n",
              "      <th>82273</th>\n",
              "      <td>880.0</td>\n",
              "      <td>1.0</td>\n",
              "      <td>1.0</td>\n",
              "    </tr>\n",
              "    <tr>\n",
              "      <th>82274</th>\n",
              "      <td>300.0</td>\n",
              "      <td>1.0</td>\n",
              "      <td>1.0</td>\n",
              "    </tr>\n",
              "  </tbody>\n",
              "</table>\n",
              "<p>82275 rows × 3 columns</p>\n",
              "</div>\n",
              "      <button class=\"colab-df-convert\" onclick=\"convertToInteractive('df-d13f8164-a408-4af2-bf64-8d795dc95f2f')\"\n",
              "              title=\"Convert this dataframe to an interactive table.\"\n",
              "              style=\"display:none;\">\n",
              "        \n",
              "  <svg xmlns=\"http://www.w3.org/2000/svg\" height=\"24px\"viewBox=\"0 0 24 24\"\n",
              "       width=\"24px\">\n",
              "    <path d=\"M0 0h24v24H0V0z\" fill=\"none\"/>\n",
              "    <path d=\"M18.56 5.44l.94 2.06.94-2.06 2.06-.94-2.06-.94-.94-2.06-.94 2.06-2.06.94zm-11 1L8.5 8.5l.94-2.06 2.06-.94-2.06-.94L8.5 2.5l-.94 2.06-2.06.94zm10 10l.94 2.06.94-2.06 2.06-.94-2.06-.94-.94-2.06-.94 2.06-2.06.94z\"/><path d=\"M17.41 7.96l-1.37-1.37c-.4-.4-.92-.59-1.43-.59-.52 0-1.04.2-1.43.59L10.3 9.45l-7.72 7.72c-.78.78-.78 2.05 0 2.83L4 21.41c.39.39.9.59 1.41.59.51 0 1.02-.2 1.41-.59l7.78-7.78 2.81-2.81c.8-.78.8-2.07 0-2.86zM5.41 20L4 18.59l7.72-7.72 1.47 1.35L5.41 20z\"/>\n",
              "  </svg>\n",
              "      </button>\n",
              "      \n",
              "  <style>\n",
              "    .colab-df-container {\n",
              "      display:flex;\n",
              "      flex-wrap:wrap;\n",
              "      gap: 12px;\n",
              "    }\n",
              "\n",
              "    .colab-df-convert {\n",
              "      background-color: #E8F0FE;\n",
              "      border: none;\n",
              "      border-radius: 50%;\n",
              "      cursor: pointer;\n",
              "      display: none;\n",
              "      fill: #1967D2;\n",
              "      height: 32px;\n",
              "      padding: 0 0 0 0;\n",
              "      width: 32px;\n",
              "    }\n",
              "\n",
              "    .colab-df-convert:hover {\n",
              "      background-color: #E2EBFA;\n",
              "      box-shadow: 0px 1px 2px rgba(60, 64, 67, 0.3), 0px 1px 3px 1px rgba(60, 64, 67, 0.15);\n",
              "      fill: #174EA6;\n",
              "    }\n",
              "\n",
              "    [theme=dark] .colab-df-convert {\n",
              "      background-color: #3B4455;\n",
              "      fill: #D2E3FC;\n",
              "    }\n",
              "\n",
              "    [theme=dark] .colab-df-convert:hover {\n",
              "      background-color: #434B5C;\n",
              "      box-shadow: 0px 1px 3px 1px rgba(0, 0, 0, 0.15);\n",
              "      filter: drop-shadow(0px 1px 2px rgba(0, 0, 0, 0.3));\n",
              "      fill: #FFFFFF;\n",
              "    }\n",
              "  </style>\n",
              "\n",
              "      <script>\n",
              "        const buttonEl =\n",
              "          document.querySelector('#df-d13f8164-a408-4af2-bf64-8d795dc95f2f button.colab-df-convert');\n",
              "        buttonEl.style.display =\n",
              "          google.colab.kernel.accessAllowed ? 'block' : 'none';\n",
              "\n",
              "        async function convertToInteractive(key) {\n",
              "          const element = document.querySelector('#df-d13f8164-a408-4af2-bf64-8d795dc95f2f');\n",
              "          const dataTable =\n",
              "            await google.colab.kernel.invokeFunction('convertToInteractive',\n",
              "                                                     [key], {});\n",
              "          if (!dataTable) return;\n",
              "\n",
              "          const docLinkHtml = 'Like what you see? Visit the ' +\n",
              "            '<a target=\"_blank\" href=https://colab.research.google.com/notebooks/data_table.ipynb>data table notebook</a>'\n",
              "            + ' to learn more about interactive tables.';\n",
              "          element.innerHTML = '';\n",
              "          dataTable['output_type'] = 'display_data';\n",
              "          await google.colab.output.renderOutput(dataTable, element);\n",
              "          const docLink = document.createElement('div');\n",
              "          docLink.innerHTML = docLinkHtml;\n",
              "          element.appendChild(docLink);\n",
              "        }\n",
              "      </script>\n",
              "    </div>\n",
              "  </div>\n",
              "  "
            ]
          },
          "metadata": {},
          "execution_count": 226
        }
      ]
    },
    {
      "cell_type": "markdown",
      "source": [
        "##**Criação da base de dados que vamos utilizar extraidos da familia**\n",
        "- Decidimos trabalhar com 3 dados, são eles:\n",
        " - vlr_renda_media_fam\n",
        " - cod_local_domic_fam\n",
        " - cod_especie_domic_fam"
      ],
      "metadata": {
        "id": "pWzkMR-Jy09f"
      }
    },
    {
      "cell_type": "code",
      "source": [
        "###obs: rodar uma vez, depois da primeira vez vai dar erro\n",
        "\n",
        "#transformação de dados de Local de Domicílio\n",
        "df_familia['cod_local_domic_fam'] = pd.cut(df_familia['cod_local_domic_fam'],bins=[1,2,float('inf')],right=False,labels=['Urbana','Rural'])\n",
        "df_familia.rename(columns = {'cod_local_domic_fam' : 'Local de Domicílio'}, inplace = True)\n",
        "\n",
        "#transformação de dados de Espécie do domicílio\n",
        "df_familia['cod_especie_domic_fam'] = pd.cut(df_familia['cod_especie_domic_fam'],bins=[1,2,3,float('inf')],right=False,labels=['Particular Permanente','Particular improvisado','Coletivo'])\n",
        "df_familia.rename(columns = {'cod_especie_domic_fam' : 'Espécie do domicílio'}, inplace = True)\n",
        "\n",
        "#transformação de dados de valor de renda media pra grupo de renda\n",
        "df_familia['vlr_renda_media_fam'] = pd.cut(df_familia['vlr_renda_media_fam'],bins=[0,100.0,200.0,float('inf')],right=False,labels=['Extrema Pobreza','Pobreza','Vulnerável'])\n",
        "df_familia.rename(columns = {'vlr_renda_media_fam' : 'Grupo de renda'}, inplace = True)"
      ],
      "metadata": {
        "colab": {
          "base_uri": "https://localhost:8080/"
        },
        "id": "SLyWXNpGSt3-",
        "outputId": "6ae74e12-4174-4024-dd5a-1799e143fd04"
      },
      "execution_count": 223,
      "outputs": [
        {
          "output_type": "stream",
          "name": "stderr",
          "text": [
            "/usr/local/lib/python3.7/dist-packages/ipykernel_launcher.py:4: SettingWithCopyWarning: \n",
            "A value is trying to be set on a copy of a slice from a DataFrame.\n",
            "Try using .loc[row_indexer,col_indexer] = value instead\n",
            "\n",
            "See the caveats in the documentation: https://pandas.pydata.org/pandas-docs/stable/user_guide/indexing.html#returning-a-view-versus-a-copy\n",
            "  after removing the cwd from sys.path.\n",
            "/usr/local/lib/python3.7/dist-packages/pandas/core/frame.py:5047: SettingWithCopyWarning: \n",
            "A value is trying to be set on a copy of a slice from a DataFrame\n",
            "\n",
            "See the caveats in the documentation: https://pandas.pydata.org/pandas-docs/stable/user_guide/indexing.html#returning-a-view-versus-a-copy\n",
            "  errors=errors,\n",
            "/usr/local/lib/python3.7/dist-packages/ipykernel_launcher.py:8: SettingWithCopyWarning: \n",
            "A value is trying to be set on a copy of a slice from a DataFrame.\n",
            "Try using .loc[row_indexer,col_indexer] = value instead\n",
            "\n",
            "See the caveats in the documentation: https://pandas.pydata.org/pandas-docs/stable/user_guide/indexing.html#returning-a-view-versus-a-copy\n",
            "  \n",
            "/usr/local/lib/python3.7/dist-packages/ipykernel_launcher.py:12: SettingWithCopyWarning: \n",
            "A value is trying to be set on a copy of a slice from a DataFrame.\n",
            "Try using .loc[row_indexer,col_indexer] = value instead\n",
            "\n",
            "See the caveats in the documentation: https://pandas.pydata.org/pandas-docs/stable/user_guide/indexing.html#returning-a-view-versus-a-copy\n",
            "  if sys.path[0] == '':\n"
          ]
        }
      ]
    },
    {
      "cell_type": "markdown",
      "source": [
        "##**Transformação dos dados para qualitativo**\n",
        "- Fizemos as transformações com base no diciónario de dados que nos foi disponibilizado:\n",
        " - Para **Local de Domicílio** temos: \n",
        "   - **1 - Urbano**;\n",
        "   - **2 - Rural**;\n",
        "\n",
        " - Para **Espécie do domicílio** temos: \n",
        "   - **1 - Particular Permanente**;\n",
        "   - **2 - Particular improvisado**;\n",
        "   - **3 - Coletivo**;\n",
        "\n",
        " - Para **Espécie do domicílio** temos: \n",
        "   - **[0, 100.0] - Extrema Pobreza**;\n",
        "   - **[100.1, 200.0] - Pobreza**;\n",
        "   - **[200.1, infinito] - Vulnerável** ;\n",
        "  "
      ],
      "metadata": {
        "id": "n1u3ZrS8ww2Z"
      }
    },
    {
      "cell_type": "code",
      "source": [
        "df_familia.describe()"
      ],
      "metadata": {
        "id": "n6_MsKd2zfgl",
        "outputId": "ef015d59-9add-42ed-ff98-4065eb1c5d6d",
        "colab": {
          "base_uri": "https://localhost:8080/",
          "height": 175
        }
      },
      "execution_count": 220,
      "outputs": [
        {
          "output_type": "execute_result",
          "data": {
            "text/plain": [
              "         Grupo de renda Local de Domicílio   Espécie do domicílio\n",
              "count             82275              82170                  82170\n",
              "unique                3                  2                      3\n",
              "top     Extrema Pobreza             Urbana  Particular Permanente\n",
              "freq              49562              55464                  78127"
            ],
            "text/html": [
              "\n",
              "  <div id=\"df-c0cc4e5c-8a7b-474d-822b-e86cdb27026f\">\n",
              "    <div class=\"colab-df-container\">\n",
              "      <div>\n",
              "<style scoped>\n",
              "    .dataframe tbody tr th:only-of-type {\n",
              "        vertical-align: middle;\n",
              "    }\n",
              "\n",
              "    .dataframe tbody tr th {\n",
              "        vertical-align: top;\n",
              "    }\n",
              "\n",
              "    .dataframe thead th {\n",
              "        text-align: right;\n",
              "    }\n",
              "</style>\n",
              "<table border=\"1\" class=\"dataframe\">\n",
              "  <thead>\n",
              "    <tr style=\"text-align: right;\">\n",
              "      <th></th>\n",
              "      <th>Grupo de renda</th>\n",
              "      <th>Local de Domicílio</th>\n",
              "      <th>Espécie do domicílio</th>\n",
              "    </tr>\n",
              "  </thead>\n",
              "  <tbody>\n",
              "    <tr>\n",
              "      <th>count</th>\n",
              "      <td>82275</td>\n",
              "      <td>82170</td>\n",
              "      <td>82170</td>\n",
              "    </tr>\n",
              "    <tr>\n",
              "      <th>unique</th>\n",
              "      <td>3</td>\n",
              "      <td>2</td>\n",
              "      <td>3</td>\n",
              "    </tr>\n",
              "    <tr>\n",
              "      <th>top</th>\n",
              "      <td>Extrema Pobreza</td>\n",
              "      <td>Urbana</td>\n",
              "      <td>Particular Permanente</td>\n",
              "    </tr>\n",
              "    <tr>\n",
              "      <th>freq</th>\n",
              "      <td>49562</td>\n",
              "      <td>55464</td>\n",
              "      <td>78127</td>\n",
              "    </tr>\n",
              "  </tbody>\n",
              "</table>\n",
              "</div>\n",
              "      <button class=\"colab-df-convert\" onclick=\"convertToInteractive('df-c0cc4e5c-8a7b-474d-822b-e86cdb27026f')\"\n",
              "              title=\"Convert this dataframe to an interactive table.\"\n",
              "              style=\"display:none;\">\n",
              "        \n",
              "  <svg xmlns=\"http://www.w3.org/2000/svg\" height=\"24px\"viewBox=\"0 0 24 24\"\n",
              "       width=\"24px\">\n",
              "    <path d=\"M0 0h24v24H0V0z\" fill=\"none\"/>\n",
              "    <path d=\"M18.56 5.44l.94 2.06.94-2.06 2.06-.94-2.06-.94-.94-2.06-.94 2.06-2.06.94zm-11 1L8.5 8.5l.94-2.06 2.06-.94-2.06-.94L8.5 2.5l-.94 2.06-2.06.94zm10 10l.94 2.06.94-2.06 2.06-.94-2.06-.94-.94-2.06-.94 2.06-2.06.94z\"/><path d=\"M17.41 7.96l-1.37-1.37c-.4-.4-.92-.59-1.43-.59-.52 0-1.04.2-1.43.59L10.3 9.45l-7.72 7.72c-.78.78-.78 2.05 0 2.83L4 21.41c.39.39.9.59 1.41.59.51 0 1.02-.2 1.41-.59l7.78-7.78 2.81-2.81c.8-.78.8-2.07 0-2.86zM5.41 20L4 18.59l7.72-7.72 1.47 1.35L5.41 20z\"/>\n",
              "  </svg>\n",
              "      </button>\n",
              "      \n",
              "  <style>\n",
              "    .colab-df-container {\n",
              "      display:flex;\n",
              "      flex-wrap:wrap;\n",
              "      gap: 12px;\n",
              "    }\n",
              "\n",
              "    .colab-df-convert {\n",
              "      background-color: #E8F0FE;\n",
              "      border: none;\n",
              "      border-radius: 50%;\n",
              "      cursor: pointer;\n",
              "      display: none;\n",
              "      fill: #1967D2;\n",
              "      height: 32px;\n",
              "      padding: 0 0 0 0;\n",
              "      width: 32px;\n",
              "    }\n",
              "\n",
              "    .colab-df-convert:hover {\n",
              "      background-color: #E2EBFA;\n",
              "      box-shadow: 0px 1px 2px rgba(60, 64, 67, 0.3), 0px 1px 3px 1px rgba(60, 64, 67, 0.15);\n",
              "      fill: #174EA6;\n",
              "    }\n",
              "\n",
              "    [theme=dark] .colab-df-convert {\n",
              "      background-color: #3B4455;\n",
              "      fill: #D2E3FC;\n",
              "    }\n",
              "\n",
              "    [theme=dark] .colab-df-convert:hover {\n",
              "      background-color: #434B5C;\n",
              "      box-shadow: 0px 1px 3px 1px rgba(0, 0, 0, 0.15);\n",
              "      filter: drop-shadow(0px 1px 2px rgba(0, 0, 0, 0.3));\n",
              "      fill: #FFFFFF;\n",
              "    }\n",
              "  </style>\n",
              "\n",
              "      <script>\n",
              "        const buttonEl =\n",
              "          document.querySelector('#df-c0cc4e5c-8a7b-474d-822b-e86cdb27026f button.colab-df-convert');\n",
              "        buttonEl.style.display =\n",
              "          google.colab.kernel.accessAllowed ? 'block' : 'none';\n",
              "\n",
              "        async function convertToInteractive(key) {\n",
              "          const element = document.querySelector('#df-c0cc4e5c-8a7b-474d-822b-e86cdb27026f');\n",
              "          const dataTable =\n",
              "            await google.colab.kernel.invokeFunction('convertToInteractive',\n",
              "                                                     [key], {});\n",
              "          if (!dataTable) return;\n",
              "\n",
              "          const docLinkHtml = 'Like what you see? Visit the ' +\n",
              "            '<a target=\"_blank\" href=https://colab.research.google.com/notebooks/data_table.ipynb>data table notebook</a>'\n",
              "            + ' to learn more about interactive tables.';\n",
              "          element.innerHTML = '';\n",
              "          dataTable['output_type'] = 'display_data';\n",
              "          await google.colab.output.renderOutput(dataTable, element);\n",
              "          const docLink = document.createElement('div');\n",
              "          docLink.innerHTML = docLinkHtml;\n",
              "          element.appendChild(docLink);\n",
              "        }\n",
              "      </script>\n",
              "    </div>\n",
              "  </div>\n",
              "  "
            ]
          },
          "metadata": {},
          "execution_count": 220
        }
      ]
    },
    {
      "cell_type": "markdown",
      "source": [
        "- Com algumas análises usando o método '.describe()' do pandas podemos ver existem campos nulos em Local de Domicílio e Espécie de domicílio e podemos supor que com base no dicionário de dados não existe a opção de 'nenhum local' então podemos dizer que os dados faltando seriam essas opções que não existem na base de dados. \n",
        "- Podemos também analisar a quantidade de tipos de itens que cada dado possui. \n",
        "- Também podemos notar o valor do dado e a quantidade de vezes que ele se repete."
      ],
      "metadata": {
        "id": "ZRjnqF8VzgqN"
      }
    },
    {
      "cell_type": "code",
      "source": [
        "# Grupo de renda\n",
        "# Extrema Pobreza\t- 49562\n",
        "# Vulnerável\t- 24747\n",
        "# Pobreza\t- 7966\n",
        "\n",
        "tipo_grupo_renda = df_familia['Grupo de renda'].value_counts().to_frame()\n",
        "tipo_grupo_renda.plot(kind='bar',color='blue')"
      ],
      "metadata": {
        "colab": {
          "base_uri": "https://localhost:8080/",
          "height": 356
        },
        "id": "E4FX8qsEdP_2",
        "outputId": "bdab83bd-039e-46eb-a5a2-849f5b8d3d79"
      },
      "execution_count": 134,
      "outputs": [
        {
          "output_type": "execute_result",
          "data": {
            "text/plain": [
              "<matplotlib.axes._subplots.AxesSubplot at 0x7fba223efa90>"
            ]
          },
          "metadata": {},
          "execution_count": 134
        },
        {
          "output_type": "display_data",
          "data": {
            "text/plain": [
              "<Figure size 432x288 with 1 Axes>"
            ],
            "image/png": "[encoded data removed]"
          },
          "metadata": {
            "needs_background": "light"
          }
        }
      ]
    },
    {
      "cell_type": "markdown",
      "source": [
        "###Realizando uma análise grosseira da porcentagem de dados, tempos:\n",
        "- **60%** na classe **Extrema Pobreza**;\n",
        "- **30%** na classe **Vulnerável**;\n",
        "- **10%** na classe **Pobreza**;\n",
        "\n"
      ],
      "metadata": {
        "id": "MS-qTqvG06zs"
      }
    },
    {
      "cell_type": "markdown",
      "source": [
        "##**Grupo de Renda da família**\n"
      ],
      "metadata": {
        "id": "WQcRSoI9tE8z"
      }
    },
    {
      "cell_type": "code",
      "source": [
        "#Dropamos o dado \"Vulnerável\" pois eles não se encaixam no grupo para inclusão no bolsa família devivo a sua renda média ser acima de 200,01\n",
        "grupoRenda = df_familia[df_familia['Grupo de renda'] == 'Vulnerável'].index\n",
        "df_familia.drop(grupoRenda, inplace = True)\n"
      ],
      "metadata": {
        "colab": {
          "base_uri": "https://localhost:8080/"
        },
        "id": "m0ooiWYBbxmo",
        "outputId": "a3ce2abc-31f2-419b-94f6-3257f6343a5f"
      },
      "execution_count": 224,
      "outputs": [
        {
          "output_type": "stream",
          "name": "stderr",
          "text": [
            "/usr/local/lib/python3.7/dist-packages/pandas/core/frame.py:4913: SettingWithCopyWarning: \n",
            "A value is trying to be set on a copy of a slice from a DataFrame\n",
            "\n",
            "See the caveats in the documentation: https://pandas.pydata.org/pandas-docs/stable/user_guide/indexing.html#returning-a-view-versus-a-copy\n",
            "  errors=errors,\n"
          ]
        }
      ]
    },
    {
      "cell_type": "markdown",
      "source": [
        "- Para fazer parte do programa bolsa família a família precisa estar no grupo de **Extrema pobreza** e **Pobreza**, devido a essas conclusões retiramos o grupo **Vulnerável** da base de dados para trabalhar com os dados das pessoas que irão fazer parte do programa."
      ],
      "metadata": {
        "id": "wpeqoY0YwcgT"
      }
    },
    {
      "cell_type": "code",
      "source": [
        "df_familia"
      ],
      "metadata": {
        "id": "V4_FfADW2V5P",
        "outputId": "b654076a-9249-459a-e548-5306779e7ecd",
        "colab": {
          "base_uri": "https://localhost:8080/",
          "height": 424
        }
      },
      "execution_count": 225,
      "outputs": [
        {
          "output_type": "execute_result",
          "data": {
            "text/plain": [
              "        Grupo de renda Local de Domicílio   Espécie do domicílio\n",
              "0      Extrema Pobreza             Urbana  Particular Permanente\n",
              "1              Pobreza              Rural  Particular Permanente\n",
              "2              Pobreza             Urbana  Particular Permanente\n",
              "4      Extrema Pobreza              Rural  Particular Permanente\n",
              "5      Extrema Pobreza             Urbana  Particular Permanente\n",
              "...                ...                ...                    ...\n",
              "82267          Pobreza             Urbana  Particular Permanente\n",
              "82268  Extrema Pobreza             Urbana  Particular Permanente\n",
              "82270          Pobreza             Urbana  Particular Permanente\n",
              "82271  Extrema Pobreza             Urbana  Particular Permanente\n",
              "82272  Extrema Pobreza             Urbana  Particular Permanente\n",
              "\n",
              "[57528 rows x 3 columns]"
            ],
            "text/html": [
              "\n",
              "  <div id=\"df-e1879d84-ee70-476e-b077-d2dfeb70242a\">\n",
              "    <div class=\"colab-df-container\">\n",
              "      <div>\n",
              "<style scoped>\n",
              "    .dataframe tbody tr th:only-of-type {\n",
              "        vertical-align: middle;\n",
              "    }\n",
              "\n",
              "    .dataframe tbody tr th {\n",
              "        vertical-align: top;\n",
              "    }\n",
              "\n",
              "    .dataframe thead th {\n",
              "        text-align: right;\n",
              "    }\n",
              "</style>\n",
              "<table border=\"1\" class=\"dataframe\">\n",
              "  <thead>\n",
              "    <tr style=\"text-align: right;\">\n",
              "      <th></th>\n",
              "      <th>Grupo de renda</th>\n",
              "      <th>Local de Domicílio</th>\n",
              "      <th>Espécie do domicílio</th>\n",
              "    </tr>\n",
              "  </thead>\n",
              "  <tbody>\n",
              "    <tr>\n",
              "      <th>0</th>\n",
              "      <td>Extrema Pobreza</td>\n",
              "      <td>Urbana</td>\n",
              "      <td>Particular Permanente</td>\n",
              "    </tr>\n",
              "    <tr>\n",
              "      <th>1</th>\n",
              "      <td>Pobreza</td>\n",
              "      <td>Rural</td>\n",
              "      <td>Particular Permanente</td>\n",
              "    </tr>\n",
              "    <tr>\n",
              "      <th>2</th>\n",
              "      <td>Pobreza</td>\n",
              "      <td>Urbana</td>\n",
              "      <td>Particular Permanente</td>\n",
              "    </tr>\n",
              "    <tr>\n",
              "      <th>4</th>\n",
              "      <td>Extrema Pobreza</td>\n",
              "      <td>Rural</td>\n",
              "      <td>Particular Permanente</td>\n",
              "    </tr>\n",
              "    <tr>\n",
              "      <th>5</th>\n",
              "      <td>Extrema Pobreza</td>\n",
              "      <td>Urbana</td>\n",
              "      <td>Particular Permanente</td>\n",
              "    </tr>\n",
              "    <tr>\n",
              "      <th>...</th>\n",
              "      <td>...</td>\n",
              "      <td>...</td>\n",
              "      <td>...</td>\n",
              "    </tr>\n",
              "    <tr>\n",
              "      <th>82267</th>\n",
              "      <td>Pobreza</td>\n",
              "      <td>Urbana</td>\n",
              "      <td>Particular Permanente</td>\n",
              "    </tr>\n",
              "    <tr>\n",
              "      <th>82268</th>\n",
              "      <td>Extrema Pobreza</td>\n",
              "      <td>Urbana</td>\n",
              "      <td>Particular Permanente</td>\n",
              "    </tr>\n",
              "    <tr>\n",
              "      <th>82270</th>\n",
              "      <td>Pobreza</td>\n",
              "      <td>Urbana</td>\n",
              "      <td>Particular Permanente</td>\n",
              "    </tr>\n",
              "    <tr>\n",
              "      <th>82271</th>\n",
              "      <td>Extrema Pobreza</td>\n",
              "      <td>Urbana</td>\n",
              "      <td>Particular Permanente</td>\n",
              "    </tr>\n",
              "    <tr>\n",
              "      <th>82272</th>\n",
              "      <td>Extrema Pobreza</td>\n",
              "      <td>Urbana</td>\n",
              "      <td>Particular Permanente</td>\n",
              "    </tr>\n",
              "  </tbody>\n",
              "</table>\n",
              "<p>57528 rows × 3 columns</p>\n",
              "</div>\n",
              "      <button class=\"colab-df-convert\" onclick=\"convertToInteractive('df-e1879d84-ee70-476e-b077-d2dfeb70242a')\"\n",
              "              title=\"Convert this dataframe to an interactive table.\"\n",
              "              style=\"display:none;\">\n",
              "        \n",
              "  <svg xmlns=\"http://www.w3.org/2000/svg\" height=\"24px\"viewBox=\"0 0 24 24\"\n",
              "       width=\"24px\">\n",
              "    <path d=\"M0 0h24v24H0V0z\" fill=\"none\"/>\n",
              "    <path d=\"M18.56 5.44l.94 2.06.94-2.06 2.06-.94-2.06-.94-.94-2.06-.94 2.06-2.06.94zm-11 1L8.5 8.5l.94-2.06 2.06-.94-2.06-.94L8.5 2.5l-.94 2.06-2.06.94zm10 10l.94 2.06.94-2.06 2.06-.94-2.06-.94-.94-2.06-.94 2.06-2.06.94z\"/><path d=\"M17.41 7.96l-1.37-1.37c-.4-.4-.92-.59-1.43-.59-.52 0-1.04.2-1.43.59L10.3 9.45l-7.72 7.72c-.78.78-.78 2.05 0 2.83L4 21.41c.39.39.9.59 1.41.59.51 0 1.02-.2 1.41-.59l7.78-7.78 2.81-2.81c.8-.78.8-2.07 0-2.86zM5.41 20L4 18.59l7.72-7.72 1.47 1.35L5.41 20z\"/>\n",
              "  </svg>\n",
              "      </button>\n",
              "      \n",
              "  <style>\n",
              "    .colab-df-container {\n",
              "      display:flex;\n",
              "      flex-wrap:wrap;\n",
              "      gap: 12px;\n",
              "    }\n",
              "\n",
              "    .colab-df-convert {\n",
              "      background-color: #E8F0FE;\n",
              "      border: none;\n",
              "      border-radius: 50%;\n",
              "      cursor: pointer;\n",
              "      display: none;\n",
              "      fill: #1967D2;\n",
              "      height: 32px;\n",
              "      padding: 0 0 0 0;\n",
              "      width: 32px;\n",
              "    }\n",
              "\n",
              "    .colab-df-convert:hover {\n",
              "      background-color: #E2EBFA;\n",
              "      box-shadow: 0px 1px 2px rgba(60, 64, 67, 0.3), 0px 1px 3px 1px rgba(60, 64, 67, 0.15);\n",
              "      fill: #174EA6;\n",
              "    }\n",
              "\n",
              "    [theme=dark] .colab-df-convert {\n",
              "      background-color: #3B4455;\n",
              "      fill: #D2E3FC;\n",
              "    }\n",
              "\n",
              "    [theme=dark] .colab-df-convert:hover {\n",
              "      background-color: #434B5C;\n",
              "      box-shadow: 0px 1px 3px 1px rgba(0, 0, 0, 0.15);\n",
              "      filter: drop-shadow(0px 1px 2px rgba(0, 0, 0, 0.3));\n",
              "      fill: #FFFFFF;\n",
              "    }\n",
              "  </style>\n",
              "\n",
              "      <script>\n",
              "        const buttonEl =\n",
              "          document.querySelector('#df-e1879d84-ee70-476e-b077-d2dfeb70242a button.colab-df-convert');\n",
              "        buttonEl.style.display =\n",
              "          google.colab.kernel.accessAllowed ? 'block' : 'none';\n",
              "\n",
              "        async function convertToInteractive(key) {\n",
              "          const element = document.querySelector('#df-e1879d84-ee70-476e-b077-d2dfeb70242a');\n",
              "          const dataTable =\n",
              "            await google.colab.kernel.invokeFunction('convertToInteractive',\n",
              "                                                     [key], {});\n",
              "          if (!dataTable) return;\n",
              "\n",
              "          const docLinkHtml = 'Like what you see? Visit the ' +\n",
              "            '<a target=\"_blank\" href=https://colab.research.google.com/notebooks/data_table.ipynb>data table notebook</a>'\n",
              "            + ' to learn more about interactive tables.';\n",
              "          element.innerHTML = '';\n",
              "          dataTable['output_type'] = 'display_data';\n",
              "          await google.colab.output.renderOutput(dataTable, element);\n",
              "          const docLink = document.createElement('div');\n",
              "          docLink.innerHTML = docLinkHtml;\n",
              "          element.appendChild(docLink);\n",
              "        }\n",
              "      </script>\n",
              "    </div>\n",
              "  </div>\n",
              "  "
            ]
          },
          "metadata": {},
          "execution_count": 225
        }
      ]
    },
    {
      "cell_type": "markdown",
      "source": [
        "- Depois da retirada do grupo **Vunerável** da análise diminuimos o volume de dados em **30%**."
      ],
      "metadata": {
        "id": "CHZXXMdx2qtB"
      }
    },
    {
      "cell_type": "markdown",
      "source": [
        "---"
      ],
      "metadata": {
        "id": "YFTEj5BsRw0I"
      }
    },
    {
      "cell_type": "markdown",
      "source": [
        "#Análise de dados de Pessoas"
      ],
      "metadata": {
        "id": "IsrwBDLfD8ZK"
      }
    },
    {
      "cell_type": "code",
      "source": [
        "# Carrega a base de dados de pessoas\n",
        "data_pessoa = pd.read_csv(\"/content/drive/MyDrive/Dataset_CadastroUnico_Sergipe/data_pessoas_sergipe.csv\")\n"
      ],
      "metadata": {
        "id": "omHvLeWdR6fI"
      },
      "execution_count": 144,
      "outputs": []
    },
    {
      "cell_type": "code",
      "source": [
        "#Criando uma tabela com os dados que vamos utilizar\n",
        "df_pessoa = data_pessoa.iloc[:,[5,6,7,8,11,12,23]]"
      ],
      "metadata": {
        "id": "yAD8bP9RIx0-"
      },
      "execution_count": 227,
      "outputs": []
    },
    {
      "cell_type": "code",
      "source": [
        "#transformação de dados para qualitativo\n",
        "\n",
        "###obs: rodar uma vez, depois da primeira vez vai dar erro\n",
        "\n",
        "#transformação de dados de cor ou raça\n",
        "df_pessoa['cod_raca_cor_pessoa'] = pd.cut(df_pessoa['cod_raca_cor_pessoa'],bins=[1.0,2.0,3.0,4.0,5.0,float('inf')],right=False,labels=['Branca','Preta','Amarela','Parda','Indígena'])\n",
        "df_pessoa.rename(columns = {'cod_raca_cor_pessoa' : 'Cor ou raça'}, inplace = True)\n",
        "\n",
        "#transformação de dados de sexo\n",
        "df_pessoa['cod_sexo_pessoa'] = pd.cut(df_pessoa['cod_sexo_pessoa'],bins=[1.0,2.0,float('inf')],right=False,labels=['Masculino','Feminino'])\n",
        "df_pessoa.rename(columns = {'cod_sexo_pessoa' : 'Sexo'}, inplace = True)\n",
        "\n",
        "#transformação de dados de relaçao de parentesco com o RF\n",
        "df_pessoa['cod_parentesco_rf_pessoa'] = pd.cut(df_pessoa['cod_parentesco_rf_pessoa'],bins=[1,2,3,4,5,6,7,8,9,10,11,float('inf')],right=False,labels=['Pessoa Responsável pela Unidade Familiar - RF','Cônjuge ou companheiro(a)','Filho(a)','Enteado(a)','Neto(a) ou bisneto(a)','Pai ou mãe','Sogro(a)','Irmão ou irmã', 'Genro ou nora','Outro parente', 'Não parente'])\n",
        "df_pessoa.rename(columns = {'cod_parentesco_rf_pessoa' : 'Relaçao de parentesco com o RF'}, inplace = True)\n",
        "\n",
        "#transformação de dados de deficiência\n",
        "df_pessoa['cod_deficiencia_memb'] = pd.cut(df_pessoa['cod_deficiencia_memb'],bins=[1.0,2.0,float('inf')],right=False,labels=['Sim','Não'])\n",
        "df_pessoa.rename(columns = {'cod_deficiencia_memb' : 'Pessoa tem deficiência?'}, inplace = True)\n",
        "\n",
        "#transformação de dados de analfabeto\n",
        "df_pessoa['cod_sabe_ler_escrever_memb'] = pd.cut(df_pessoa['cod_sabe_ler_escrever_memb'],bins=[1.0,2.0,float('inf')],right=False,labels=['Sim','Não'])\n",
        "df_pessoa.rename(columns = {'cod_sabe_ler_escrever_memb' : 'Analfabeto?'}, inplace = True)\n",
        "\n",
        "df_pessoa.head()\n"
      ],
      "metadata": {
        "id": "DJs2si1q9duj"
      },
      "execution_count": null,
      "outputs": []
    },
    {
      "cell_type": "markdown",
      "source": [
        "**Transformação dos dados para qualitativo**\n",
        "- Fizemos as transformações com base no diciónario de dados que nos foi disponibilizado:\n",
        " - Para **Cor ou raça** temos: \n",
        "   - **1.0 - Branca**;\n",
        "   - **2.0 - Preta**;\n",
        "   - **3.0 - Amarela**;\n",
        "   - **4.0 - Parda**;\n",
        "   - **5.0 - Indígena**;\n",
        "\n",
        " - Para **Sexo** temos: \n",
        "   - **1.0 - Masculino**;\n",
        "   - **2.0 - Feminino**;\n",
        "\n",
        " - Para **Cor ou raça** temos: \n",
        "   - **1 - Pessoa Responsável pela Unidade Familiar - RF**;\n",
        "   - **2 - Cônjuge ou companheiro(a)**;\n",
        "   - **3 - Filho(a)'**;\n",
        "   - **4 - Enteado(a)**;\n",
        "   - **5 - Neto(a) ou bisneto(a)**;\n",
        "   - **6 - Pai ou mãe**;\n",
        "   - **7 - Sogro(a)**;  \n",
        "   - **8 - Irmão ou irmã**;  \n",
        "   - **9 - Genro ou nora**;  \n",
        "   - **10 - Outro parente**;  \n",
        "   - **11 - Não parente**;  \n",
        "\n",
        " - Para **Pessoa tem deficiência?** temos: \n",
        "   - **1.0 - Sim**;\n",
        "   - **2.0 - Não**;\n",
        "\n",
        " - Para **Analfabeto?** temos: \n",
        "   - **1.0 - Sim**;\n",
        "   - **2.0 - Não**;\n",
        "  "
      ],
      "metadata": {
        "id": "_UhHA7gr3K4U"
      }
    },
    {
      "cell_type": "code",
      "source": [
        "#Parda > Banca > Preta > Amarela > Indígina \n",
        "#Cor ou raça\n",
        "#Parda - 166620\n",
        "#Branca -\t27640\n",
        "#Preta - 9997\n",
        "#Amarela -1027\n",
        "#Indígena - 274\n",
        "\n",
        "cor_da_raca = df_pessoa['Cor ou raça'].value_counts().to_frame()\n",
        "cor_da_raca.plot(kind='bar',color='blue')"
      ],
      "metadata": {
        "colab": {
          "base_uri": "https://localhost:8080/",
          "height": 316
        },
        "id": "ZuODR-SA-Ykn",
        "outputId": "45907160-b9d3-4b98-d3b0-f3507cdd7601"
      },
      "execution_count": 168,
      "outputs": [
        {
          "output_type": "execute_result",
          "data": {
            "text/plain": [
              "<matplotlib.axes._subplots.AxesSubplot at 0x7fba21fb0c10>"
            ]
          },
          "metadata": {},
          "execution_count": 168
        },
        {
          "output_type": "display_data",
          "data": {
            "text/plain": [
              "<Figure size 432x288 with 1 Axes>"
            ],
            "image/png": "[encoded data removed]"
          },
          "metadata": {
            "needs_background": "light"
          }
        }
      ]
    },
    {
      "cell_type": "code",
      "source": [
        "#Mulher > Homem\n",
        "#Sexo\n",
        "#Feminino -\t116695\n",
        "#Masculino -\t88919\n",
        "\n",
        "tipo_do_sexo = df_pessoa['Sexo'].value_counts().to_frame()\n",
        "\n",
        "tipo_do_sexo.plot(kind='bar',color='blue')"
      ],
      "metadata": {
        "colab": {
          "base_uri": "https://localhost:8080/",
          "height": 322
        },
        "id": "nE4zkZL3-pEH",
        "outputId": "77e9c9a0-e958-4384-97bf-288470083757"
      },
      "execution_count": 140,
      "outputs": [
        {
          "output_type": "execute_result",
          "data": {
            "text/plain": [
              "<matplotlib.axes._subplots.AxesSubplot at 0x7fba22359150>"
            ]
          },
          "metadata": {},
          "execution_count": 140
        },
        {
          "output_type": "display_data",
          "data": {
            "text/plain": [
              "<Figure size 432x288 with 1 Axes>"
            ],
            "image/png": "[encoded data removed]"
          },
          "metadata": {
            "needs_background": "light"
          }
        }
      ]
    },
    {
      "cell_type": "code",
      "source": [
        "#Não > Sim\n",
        "#Pessoa tem deficiência?\n",
        "#Não -\t197221\n",
        "#Sim -\t8393\n",
        "\n",
        "possui_deficiencia = df_pessoa['Pessoa tem deficiência?'].value_counts().to_frame()\n",
        "\n",
        "possui_deficiencia.plot(kind='bar',color='blue')"
      ],
      "metadata": {
        "colab": {
          "base_uri": "https://localhost:8080/",
          "height": 292
        },
        "id": "kUFaDt_8Dd18",
        "outputId": "02f533c7-2f33-47f4-f466-c99f6d35baa9"
      },
      "execution_count": 141,
      "outputs": [
        {
          "output_type": "execute_result",
          "data": {
            "text/plain": [
              "<matplotlib.axes._subplots.AxesSubplot at 0x7fba22326810>"
            ]
          },
          "metadata": {},
          "execution_count": 141
        },
        {
          "output_type": "display_data",
          "data": {
            "text/plain": [
              "<Figure size 432x288 with 1 Axes>"
            ],
            "image/png": "[encoded data removed]"
          },
          "metadata": {
            "needs_background": "light"
          }
        }
      ]
    },
    {
      "cell_type": "code",
      "source": [
        "#Sim > Não\n",
        "#Analfabeto?\n",
        "#Sim -\t150732\n",
        "#Não -\t54861\n",
        "\n",
        "e_analfabeto = df_pessoa['Analfabeto?'].value_counts().to_frame()\n",
        "\n",
        "e_analfabeto.plot(kind='bar',color='blue')"
      ],
      "metadata": {
        "colab": {
          "base_uri": "https://localhost:8080/",
          "height": 292
        },
        "id": "w-GuEsimEnMA",
        "outputId": "bc4071a5-7cf4-4073-8938-29b742f27181"
      },
      "execution_count": 142,
      "outputs": [
        {
          "output_type": "execute_result",
          "data": {
            "text/plain": [
              "<matplotlib.axes._subplots.AxesSubplot at 0x7fba221a2490>"
            ]
          },
          "metadata": {},
          "execution_count": 142
        },
        {
          "output_type": "display_data",
          "data": {
            "text/plain": [
              "<Figure size 432x288 with 1 Axes>"
            ],
            "image/png": "[encoded data removed]"
          },
          "metadata": {
            "needs_background": "light"
          }
        }
      ]
    },
    {
      "cell_type": "markdown",
      "source": [
        "| Relaçao de parentesco com o RF | Quantidade |\n",
        "|---|---|\n",
        "Filho(a) |\t91214\n",
        "Pessoa Responsável pela Unidade Familia RF |\t82275\n",
        "Cônjuge ou companheiro(a)\t| 22975\n",
        "Neto(a) ou bisneto(a)\t| 4139\n",
        "Irmão ou irmã\t| 1633\n",
        "Outro parente\t|1435\n",
        "Pai ou mãe\t| 1224\n",
        "Enteado(a)\t| 372\n",
        "Não parente\t| 170\n",
        "Genro ou nora\t| 133\n",
        "Sogro(a)\t| 44"
      ],
      "metadata": {
        "id": "SSUSA2tIITtn"
      }
    },
    {
      "cell_type": "code",
      "source": [
        "#Relaçao de parentesco com o RF\n",
        "\n",
        "relacao_parentesco = df_pessoa['Relaçao de parentesco com o RF'].value_counts().to_frame()\n",
        "\n",
        "#relacao_parentesco\n",
        "\n",
        "relacao_parentesco.plot(kind='bar',color='blue')"
      ],
      "metadata": {
        "colab": {
          "base_uri": "https://localhost:8080/",
          "height": 507
        },
        "id": "-aewtrf6Hsvx",
        "outputId": "638c4eb3-5414-4536-ca02-1bcf44bdac0f"
      },
      "execution_count": 143,
      "outputs": [
        {
          "output_type": "execute_result",
          "data": {
            "text/plain": [
              "<matplotlib.axes._subplots.AxesSubplot at 0x7fba2213a390>"
            ]
          },
          "metadata": {},
          "execution_count": 143
        },
        {
          "output_type": "display_data",
          "data": {
            "text/plain": [
              "<Figure size 432x288 with 1 Axes>"
            ],
            "image/png": "[encoded data removed]"
          },
          "metadata": {
            "needs_background": "light"
          }
        }
      ]
    }
  ]
}